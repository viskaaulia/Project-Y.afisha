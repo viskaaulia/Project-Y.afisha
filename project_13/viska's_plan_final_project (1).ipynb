{
 "cells": [
  {
   "cell_type": "markdown",
   "id": "6513f588",
   "metadata": {},
   "source": [
    "# Deskripsi proyek"
   ]
  },
  {
   "cell_type": "markdown",
   "id": "8175618e",
   "metadata": {},
   "source": [
    "Kumpulan data berisi data pembelian yang dilakukan di retail bahan bangunan Home World. Semua pelanggannya memiliki kartu keanggotaan. Selain itu, mereka dapat menjadi anggota program loyalitas toko seharga $20 per bulan. Program ini mencakup diskon, informasi tentang penawaran khusus, dan hadiah. Proyek ini untuk mengetahui apakah program loyalitas atau membership pelanggan benar-benar menghasilkan pertumbuhan yang diharapkan dalam ukuran pembelian rata-rata dan jumlah item dalam keranjang sehingga kita dapat mengetahui apakah program tersebut efektif atau tidak dalam peningkatan penjualan."
   ]
  },
  {
   "cell_type": "markdown",
   "id": "2b0381ac",
   "metadata": {},
   "source": [
    "# Perencanaan:"
   ]
  },
  {
   "cell_type": "markdown",
   "id": "e2640e4a",
   "metadata": {},
   "source": [
    "1. Mengunduh data"
   ]
  },
  {
   "cell_type": "markdown",
   "id": "c4c7611a",
   "metadata": {},
   "source": [
    "2. Pra-pemrosesan data:\n",
    "\n",
    "    • Mengubah data ke tipe yang dibutuhkan\n",
    "\n",
    "    • Mengidentifikasi dan mengisi nilai-nilai yang hilang\n",
    "\n",
    "    • Menghapus data duplikat"
   ]
  },
  {
   "cell_type": "markdown",
   "id": "19fc7fc7",
   "metadata": {},
   "source": [
    "3. Melakukan Analisis Data Eksploratif \n",
    "\n",
    "    • Berapa jumlah pelanggan selama periode waktu antara member dengan non-member.\n",
    "    \n",
    "    • Berapa rata-rata pembellian antara member dengan non-member.\n",
    "    \n",
    "    • menganalisis perubahan ukuran pembelian rata-rata untuk setiap kohort untuk yang member dengan non-member.\n",
    "    \n",
    "    • menganalisis frekuensi pembelian untuk pelanggan yang member dengan non-member."
   ]
  },
  {
   "cell_type": "markdown",
   "id": "48077a33",
   "metadata": {},
   "source": [
    "4. Merumuskan dan menguji hipotesis statistic\n",
    "\n",
    "    • Rata-rata pembelian antara yang member dengan non-member adalah berbeda\n",
    "    \n",
    "    • frekuensi pembelian untuk pelanggan yang member dengan non-member adalah berbeda"
   ]
  },
  {
   "cell_type": "markdown",
   "id": "3e7650cd",
   "metadata": {},
   "source": [
    "5. Kesimpulan"
   ]
  }
 ],
 "metadata": {
  "kernelspec": {
   "display_name": "Python 3 (ipykernel)",
   "language": "python",
   "name": "python3"
  },
  "language_info": {
   "codemirror_mode": {
    "name": "ipython",
    "version": 3
   },
   "file_extension": ".py",
   "mimetype": "text/x-python",
   "name": "python",
   "nbconvert_exporter": "python",
   "pygments_lexer": "ipython3",
   "version": "3.10.9"
  }
 },
 "nbformat": 4,
 "nbformat_minor": 5
}
