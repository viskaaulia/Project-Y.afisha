{
 "cells": [
  {
   "cell_type": "markdown",
   "metadata": {},
   "source": [
    "## Deskripsi projek"
   ]
  },
  {
   "cell_type": "markdown",
   "metadata": {},
   "source": [
    "Projek ini mengulas dan mengidentifikasi jenis-jenis usaha tempat makan di LA yang bertujuan untuk membuka sebuah kafe kecil di Los Angeles. Karena kafe yang akan dibuka yaitu kafe dengan menggunakan robot sebagai \"pekerja\" pramusaji membutuhkan modal yang besar. Oleh karena itu perlu untuk menarik minat investor jenis usaha makanan seperti apa yang dapat menjanjikan dan dapat menarik para investor. Data yang didapat dari sumber terbuka (open source), langkah-langkah yang dilakukan yaitu:\n",
    "\n",
    "1. Memuat library yang dibutuhkan\n",
    "2. Memuat datanya\n",
    "3. Melakukan Pra-pemrosesan\n",
    "4. Analisis data\n",
    "5. Kesimpulan"
   ]
  },
  {
   "cell_type": "markdown",
   "metadata": {},
   "source": [
    "## Memuat libraby"
   ]
  },
  {
   "cell_type": "code",
   "execution_count": 1,
   "metadata": {},
   "outputs": [],
   "source": [
    "import pandas as pd\n",
    "import plotly.express as px\n",
    "import seaborn as sns\n",
    "import matplotlib.pyplot as plt\n"
   ]
  },
  {
   "cell_type": "markdown",
   "metadata": {},
   "source": [
    "## Memuat data"
   ]
  },
  {
   "cell_type": "code",
   "execution_count": 2,
   "metadata": {},
   "outputs": [
    {
     "data": {
      "text/html": [
       "<div>\n",
       "<style scoped>\n",
       "    .dataframe tbody tr th:only-of-type {\n",
       "        vertical-align: middle;\n",
       "    }\n",
       "\n",
       "    .dataframe tbody tr th {\n",
       "        vertical-align: top;\n",
       "    }\n",
       "\n",
       "    .dataframe thead th {\n",
       "        text-align: right;\n",
       "    }\n",
       "</style>\n",
       "<table border=\"1\" class=\"dataframe\">\n",
       "  <thead>\n",
       "    <tr style=\"text-align: right;\">\n",
       "      <th></th>\n",
       "      <th>id</th>\n",
       "      <th>object_name</th>\n",
       "      <th>address</th>\n",
       "      <th>chain</th>\n",
       "      <th>object_type</th>\n",
       "      <th>number</th>\n",
       "    </tr>\n",
       "  </thead>\n",
       "  <tbody>\n",
       "    <tr>\n",
       "      <th>0</th>\n",
       "      <td>11786</td>\n",
       "      <td>HABITAT COFFEE SHOP</td>\n",
       "      <td>3708 N EAGLE ROCK BLVD</td>\n",
       "      <td>False</td>\n",
       "      <td>Cafe</td>\n",
       "      <td>26</td>\n",
       "    </tr>\n",
       "    <tr>\n",
       "      <th>1</th>\n",
       "      <td>11787</td>\n",
       "      <td>REILLY'S</td>\n",
       "      <td>100 WORLD WAY # 120</td>\n",
       "      <td>False</td>\n",
       "      <td>Restaurant</td>\n",
       "      <td>9</td>\n",
       "    </tr>\n",
       "    <tr>\n",
       "      <th>2</th>\n",
       "      <td>11788</td>\n",
       "      <td>STREET CHURROS</td>\n",
       "      <td>6801 HOLLYWOOD BLVD # 253</td>\n",
       "      <td>False</td>\n",
       "      <td>Fast Food</td>\n",
       "      <td>20</td>\n",
       "    </tr>\n",
       "    <tr>\n",
       "      <th>3</th>\n",
       "      <td>11789</td>\n",
       "      <td>TRINITI ECHO PARK</td>\n",
       "      <td>1814 W SUNSET BLVD</td>\n",
       "      <td>False</td>\n",
       "      <td>Restaurant</td>\n",
       "      <td>22</td>\n",
       "    </tr>\n",
       "    <tr>\n",
       "      <th>4</th>\n",
       "      <td>11790</td>\n",
       "      <td>POLLEN</td>\n",
       "      <td>2100 ECHO PARK AVE</td>\n",
       "      <td>False</td>\n",
       "      <td>Restaurant</td>\n",
       "      <td>20</td>\n",
       "    </tr>\n",
       "    <tr>\n",
       "      <th>5</th>\n",
       "      <td>11791</td>\n",
       "      <td>THE SPOT GRILL</td>\n",
       "      <td>10004 NATIONAL BLVD</td>\n",
       "      <td>False</td>\n",
       "      <td>Restaurant</td>\n",
       "      <td>14</td>\n",
       "    </tr>\n",
       "    <tr>\n",
       "      <th>6</th>\n",
       "      <td>11792</td>\n",
       "      <td>CPK</td>\n",
       "      <td>100 WORLD WAY # 126</td>\n",
       "      <td>False</td>\n",
       "      <td>Restaurant</td>\n",
       "      <td>100</td>\n",
       "    </tr>\n",
       "    <tr>\n",
       "      <th>7</th>\n",
       "      <td>11793</td>\n",
       "      <td>PHO LALA</td>\n",
       "      <td>3500 W 6TH ST STE 226</td>\n",
       "      <td>False</td>\n",
       "      <td>Restaurant</td>\n",
       "      <td>7</td>\n",
       "    </tr>\n",
       "    <tr>\n",
       "      <th>8</th>\n",
       "      <td>11794</td>\n",
       "      <td>ABC DONUTS</td>\n",
       "      <td>3027 N SAN FERNANDO RD UNIT 103</td>\n",
       "      <td>True</td>\n",
       "      <td>Fast Food</td>\n",
       "      <td>1</td>\n",
       "    </tr>\n",
       "    <tr>\n",
       "      <th>9</th>\n",
       "      <td>11795</td>\n",
       "      <td>UPSTAIRS</td>\n",
       "      <td>3707 N CAHUENGA BLVD</td>\n",
       "      <td>False</td>\n",
       "      <td>Restaurant</td>\n",
       "      <td>35</td>\n",
       "    </tr>\n",
       "  </tbody>\n",
       "</table>\n",
       "</div>"
      ],
      "text/plain": [
       "      id          object_name                          address  chain  \\\n",
       "0  11786  HABITAT COFFEE SHOP           3708 N EAGLE ROCK BLVD  False   \n",
       "1  11787             REILLY'S              100 WORLD WAY # 120  False   \n",
       "2  11788       STREET CHURROS        6801 HOLLYWOOD BLVD # 253  False   \n",
       "3  11789    TRINITI ECHO PARK               1814 W SUNSET BLVD  False   \n",
       "4  11790               POLLEN               2100 ECHO PARK AVE  False   \n",
       "5  11791       THE SPOT GRILL              10004 NATIONAL BLVD  False   \n",
       "6  11792                  CPK              100 WORLD WAY # 126  False   \n",
       "7  11793             PHO LALA            3500 W 6TH ST STE 226  False   \n",
       "8  11794           ABC DONUTS  3027 N SAN FERNANDO RD UNIT 103   True   \n",
       "9  11795             UPSTAIRS             3707 N CAHUENGA BLVD  False   \n",
       "\n",
       "  object_type  number  \n",
       "0        Cafe      26  \n",
       "1  Restaurant       9  \n",
       "2   Fast Food      20  \n",
       "3  Restaurant      22  \n",
       "4  Restaurant      20  \n",
       "5  Restaurant      14  \n",
       "6  Restaurant     100  \n",
       "7  Restaurant       7  \n",
       "8   Fast Food       1  \n",
       "9  Restaurant      35  "
      ]
     },
     "execution_count": 2,
     "metadata": {},
     "output_type": "execute_result"
    }
   ],
   "source": [
    "data = pd.read_csv('/datasets/rest_data_us.csv')\n",
    "data.head(10)"
   ]
  },
  {
   "cell_type": "code",
   "execution_count": 3,
   "metadata": {},
   "outputs": [
    {
     "name": "stdout",
     "output_type": "stream",
     "text": [
      "<class 'pandas.core.frame.DataFrame'>\n",
      "RangeIndex: 9651 entries, 0 to 9650\n",
      "Data columns (total 6 columns):\n",
      " #   Column       Non-Null Count  Dtype \n",
      "---  ------       --------------  ----- \n",
      " 0   id           9651 non-null   int64 \n",
      " 1   object_name  9651 non-null   object\n",
      " 2   address      9651 non-null   object\n",
      " 3   chain        9648 non-null   object\n",
      " 4   object_type  9651 non-null   object\n",
      " 5   number       9651 non-null   int64 \n",
      "dtypes: int64(2), object(4)\n",
      "memory usage: 452.5+ KB\n"
     ]
    }
   ],
   "source": [
    "data.info()"
   ]
  },
  {
   "cell_type": "markdown",
   "metadata": {},
   "source": [
    "**Terdapat nilai yag hilang pada kolom `chain`, karena nilai yang hilang hanya ada 3 baris maka NaN di hilangkan saja dan hal ini tidak akan begitu mempengaruhi proses analisi data**"
   ]
  },
  {
   "cell_type": "markdown",
   "metadata": {},
   "source": [
    "## Pra-pemrosesan data"
   ]
  },
  {
   "cell_type": "code",
   "execution_count": 4,
   "metadata": {
    "scrolled": false
   },
   "outputs": [
    {
     "data": {
      "text/html": [
       "<div>\n",
       "<style scoped>\n",
       "    .dataframe tbody tr th:only-of-type {\n",
       "        vertical-align: middle;\n",
       "    }\n",
       "\n",
       "    .dataframe tbody tr th {\n",
       "        vertical-align: top;\n",
       "    }\n",
       "\n",
       "    .dataframe thead th {\n",
       "        text-align: right;\n",
       "    }\n",
       "</style>\n",
       "<table border=\"1\" class=\"dataframe\">\n",
       "  <thead>\n",
       "    <tr style=\"text-align: right;\">\n",
       "      <th></th>\n",
       "      <th>id</th>\n",
       "      <th>object_name</th>\n",
       "      <th>address</th>\n",
       "      <th>chain</th>\n",
       "      <th>object_type</th>\n",
       "      <th>number</th>\n",
       "    </tr>\n",
       "  </thead>\n",
       "  <tbody>\n",
       "    <tr>\n",
       "      <th>7408</th>\n",
       "      <td>19194</td>\n",
       "      <td>TAQUERIA LOS 3 CARNALES</td>\n",
       "      <td>5000 E WHITTIER BLVD</td>\n",
       "      <td>NaN</td>\n",
       "      <td>Restaurant</td>\n",
       "      <td>14</td>\n",
       "    </tr>\n",
       "    <tr>\n",
       "      <th>7523</th>\n",
       "      <td>19309</td>\n",
       "      <td>JAMMIN JIMMY'S PIZZA</td>\n",
       "      <td>1641 FIRESTONE BLVD</td>\n",
       "      <td>NaN</td>\n",
       "      <td>Pizza</td>\n",
       "      <td>1</td>\n",
       "    </tr>\n",
       "    <tr>\n",
       "      <th>8648</th>\n",
       "      <td>20434</td>\n",
       "      <td>THE LEXINGTON THEATER</td>\n",
       "      <td>129 E 3RD ST</td>\n",
       "      <td>NaN</td>\n",
       "      <td>Restaurant</td>\n",
       "      <td>35</td>\n",
       "    </tr>\n",
       "  </tbody>\n",
       "</table>\n",
       "</div>"
      ],
      "text/plain": [
       "         id              object_name               address chain object_type  \\\n",
       "7408  19194  TAQUERIA LOS 3 CARNALES  5000 E WHITTIER BLVD   NaN  Restaurant   \n",
       "7523  19309     JAMMIN JIMMY'S PIZZA   1641 FIRESTONE BLVD   NaN       Pizza   \n",
       "8648  20434    THE LEXINGTON THEATER          129 E 3RD ST   NaN  Restaurant   \n",
       "\n",
       "      number  \n",
       "7408      14  \n",
       "7523       1  \n",
       "8648      35  "
      ]
     },
     "execution_count": 4,
     "metadata": {},
     "output_type": "execute_result"
    }
   ],
   "source": [
    "# memriksa nilai yang hilang\n",
    "data_withnan= data[data['chain'].isna()]\n",
    "data_withnan"
   ]
  },
  {
   "cell_type": "code",
   "execution_count": 5,
   "metadata": {},
   "outputs": [
    {
     "data": {
      "text/html": [
       "<div>\n",
       "<style scoped>\n",
       "    .dataframe tbody tr th:only-of-type {\n",
       "        vertical-align: middle;\n",
       "    }\n",
       "\n",
       "    .dataframe tbody tr th {\n",
       "        vertical-align: top;\n",
       "    }\n",
       "\n",
       "    .dataframe thead th {\n",
       "        text-align: right;\n",
       "    }\n",
       "</style>\n",
       "<table border=\"1\" class=\"dataframe\">\n",
       "  <thead>\n",
       "    <tr style=\"text-align: right;\">\n",
       "      <th></th>\n",
       "      <th>id</th>\n",
       "      <th>object_name</th>\n",
       "      <th>address</th>\n",
       "      <th>chain</th>\n",
       "      <th>object_type</th>\n",
       "      <th>number</th>\n",
       "    </tr>\n",
       "  </thead>\n",
       "  <tbody>\n",
       "    <tr>\n",
       "      <th>0</th>\n",
       "      <td>11786</td>\n",
       "      <td>HABITAT COFFEE SHOP</td>\n",
       "      <td>3708 N EAGLE ROCK BLVD</td>\n",
       "      <td>False</td>\n",
       "      <td>Cafe</td>\n",
       "      <td>26</td>\n",
       "    </tr>\n",
       "    <tr>\n",
       "      <th>1</th>\n",
       "      <td>11787</td>\n",
       "      <td>REILLY'S</td>\n",
       "      <td>100 WORLD WAY # 120</td>\n",
       "      <td>False</td>\n",
       "      <td>Restaurant</td>\n",
       "      <td>9</td>\n",
       "    </tr>\n",
       "    <tr>\n",
       "      <th>2</th>\n",
       "      <td>11788</td>\n",
       "      <td>STREET CHURROS</td>\n",
       "      <td>6801 HOLLYWOOD BLVD # 253</td>\n",
       "      <td>False</td>\n",
       "      <td>Fast Food</td>\n",
       "      <td>20</td>\n",
       "    </tr>\n",
       "    <tr>\n",
       "      <th>3</th>\n",
       "      <td>11789</td>\n",
       "      <td>TRINITI ECHO PARK</td>\n",
       "      <td>1814 W SUNSET BLVD</td>\n",
       "      <td>False</td>\n",
       "      <td>Restaurant</td>\n",
       "      <td>22</td>\n",
       "    </tr>\n",
       "    <tr>\n",
       "      <th>4</th>\n",
       "      <td>11790</td>\n",
       "      <td>POLLEN</td>\n",
       "      <td>2100 ECHO PARK AVE</td>\n",
       "      <td>False</td>\n",
       "      <td>Restaurant</td>\n",
       "      <td>20</td>\n",
       "    </tr>\n",
       "    <tr>\n",
       "      <th>...</th>\n",
       "      <td>...</td>\n",
       "      <td>...</td>\n",
       "      <td>...</td>\n",
       "      <td>...</td>\n",
       "      <td>...</td>\n",
       "      <td>...</td>\n",
       "    </tr>\n",
       "    <tr>\n",
       "      <th>9646</th>\n",
       "      <td>21432</td>\n",
       "      <td>HALL OF JUSTICE</td>\n",
       "      <td>217 W TEMPLE AVE</td>\n",
       "      <td>False</td>\n",
       "      <td>Restaurant</td>\n",
       "      <td>122</td>\n",
       "    </tr>\n",
       "    <tr>\n",
       "      <th>9647</th>\n",
       "      <td>21433</td>\n",
       "      <td>FIN-MELROSE</td>\n",
       "      <td>5750 MELROSE AVE</td>\n",
       "      <td>False</td>\n",
       "      <td>Restaurant</td>\n",
       "      <td>93</td>\n",
       "    </tr>\n",
       "    <tr>\n",
       "      <th>9648</th>\n",
       "      <td>21434</td>\n",
       "      <td>JUICY WINGZ</td>\n",
       "      <td>6741 HOLLYWOOD BLVD</td>\n",
       "      <td>True</td>\n",
       "      <td>Fast Food</td>\n",
       "      <td>15</td>\n",
       "    </tr>\n",
       "    <tr>\n",
       "      <th>9649</th>\n",
       "      <td>21435</td>\n",
       "      <td>MEDIDATE COFFEE</td>\n",
       "      <td>548 S SPRING ST STE 100</td>\n",
       "      <td>False</td>\n",
       "      <td>Cafe</td>\n",
       "      <td>6</td>\n",
       "    </tr>\n",
       "    <tr>\n",
       "      <th>9650</th>\n",
       "      <td>21436</td>\n",
       "      <td>CAFE SPROUTS</td>\n",
       "      <td>1300 S SAN PEDRO ST STE 111</td>\n",
       "      <td>True</td>\n",
       "      <td>Restaurant</td>\n",
       "      <td>19</td>\n",
       "    </tr>\n",
       "  </tbody>\n",
       "</table>\n",
       "<p>9648 rows × 6 columns</p>\n",
       "</div>"
      ],
      "text/plain": [
       "         id          object_name                      address  chain  \\\n",
       "0     11786  HABITAT COFFEE SHOP       3708 N EAGLE ROCK BLVD  False   \n",
       "1     11787             REILLY'S          100 WORLD WAY # 120  False   \n",
       "2     11788       STREET CHURROS    6801 HOLLYWOOD BLVD # 253  False   \n",
       "3     11789    TRINITI ECHO PARK           1814 W SUNSET BLVD  False   \n",
       "4     11790               POLLEN           2100 ECHO PARK AVE  False   \n",
       "...     ...                  ...                          ...    ...   \n",
       "9646  21432      HALL OF JUSTICE             217 W TEMPLE AVE  False   \n",
       "9647  21433          FIN-MELROSE             5750 MELROSE AVE  False   \n",
       "9648  21434          JUICY WINGZ          6741 HOLLYWOOD BLVD   True   \n",
       "9649  21435      MEDIDATE COFFEE      548 S SPRING ST STE 100  False   \n",
       "9650  21436         CAFE SPROUTS  1300 S SAN PEDRO ST STE 111   True   \n",
       "\n",
       "     object_type  number  \n",
       "0           Cafe      26  \n",
       "1     Restaurant       9  \n",
       "2      Fast Food      20  \n",
       "3     Restaurant      22  \n",
       "4     Restaurant      20  \n",
       "...          ...     ...  \n",
       "9646  Restaurant     122  \n",
       "9647  Restaurant      93  \n",
       "9648   Fast Food      15  \n",
       "9649        Cafe       6  \n",
       "9650  Restaurant      19  \n",
       "\n",
       "[9648 rows x 6 columns]"
      ]
     },
     "execution_count": 5,
     "metadata": {},
     "output_type": "execute_result"
    }
   ],
   "source": [
    "# data tanpa nilai NaN\n",
    "rest=data[data['chain'].notnull()]\n",
    "rest"
   ]
  },
  {
   "cell_type": "code",
   "execution_count": 6,
   "metadata": {},
   "outputs": [
    {
     "name": "stderr",
     "output_type": "stream",
     "text": [
      "/tmp/ipykernel_73/2942053373.py:2: SettingWithCopyWarning: \n",
      "A value is trying to be set on a copy of a slice from a DataFrame.\n",
      "Try using .loc[row_indexer,col_indexer] = value instead\n",
      "\n",
      "See the caveats in the documentation: https://pandas.pydata.org/pandas-docs/stable/user_guide/indexing.html#returning-a-view-versus-a-copy\n",
      "  rest['id'] = rest['id'].astype('str')\n"
     ]
    }
   ],
   "source": [
    "# mengubah tipe data menjadi object\n",
    "rest['id'] = rest['id'].astype('str')"
   ]
  },
  {
   "cell_type": "code",
   "execution_count": 7,
   "metadata": {},
   "outputs": [
    {
     "data": {
      "text/html": [
       "<div>\n",
       "<style scoped>\n",
       "    .dataframe tbody tr th:only-of-type {\n",
       "        vertical-align: middle;\n",
       "    }\n",
       "\n",
       "    .dataframe tbody tr th {\n",
       "        vertical-align: top;\n",
       "    }\n",
       "\n",
       "    .dataframe thead th {\n",
       "        text-align: right;\n",
       "    }\n",
       "</style>\n",
       "<table border=\"1\" class=\"dataframe\">\n",
       "  <thead>\n",
       "    <tr style=\"text-align: right;\">\n",
       "      <th></th>\n",
       "      <th>id</th>\n",
       "      <th>object_name</th>\n",
       "      <th>address</th>\n",
       "      <th>chain</th>\n",
       "      <th>object_type</th>\n",
       "      <th>number</th>\n",
       "    </tr>\n",
       "  </thead>\n",
       "  <tbody>\n",
       "    <tr>\n",
       "      <th>0</th>\n",
       "      <td>11786</td>\n",
       "      <td>HABITAT COFFEE SHOP</td>\n",
       "      <td>3708 N EAGLE ROCK BLVD</td>\n",
       "      <td>False</td>\n",
       "      <td>Cafe</td>\n",
       "      <td>26</td>\n",
       "    </tr>\n",
       "    <tr>\n",
       "      <th>1</th>\n",
       "      <td>11787</td>\n",
       "      <td>REILLY'S</td>\n",
       "      <td>100 WORLD WAY # 120</td>\n",
       "      <td>False</td>\n",
       "      <td>Restaurant</td>\n",
       "      <td>9</td>\n",
       "    </tr>\n",
       "    <tr>\n",
       "      <th>2</th>\n",
       "      <td>11788</td>\n",
       "      <td>STREET CHURROS</td>\n",
       "      <td>6801 HOLLYWOOD BLVD # 253</td>\n",
       "      <td>False</td>\n",
       "      <td>Fast Food</td>\n",
       "      <td>20</td>\n",
       "    </tr>\n",
       "    <tr>\n",
       "      <th>3</th>\n",
       "      <td>11789</td>\n",
       "      <td>TRINITI ECHO PARK</td>\n",
       "      <td>1814 W SUNSET BLVD</td>\n",
       "      <td>False</td>\n",
       "      <td>Restaurant</td>\n",
       "      <td>22</td>\n",
       "    </tr>\n",
       "    <tr>\n",
       "      <th>4</th>\n",
       "      <td>11790</td>\n",
       "      <td>POLLEN</td>\n",
       "      <td>2100 ECHO PARK AVE</td>\n",
       "      <td>False</td>\n",
       "      <td>Restaurant</td>\n",
       "      <td>20</td>\n",
       "    </tr>\n",
       "    <tr>\n",
       "      <th>...</th>\n",
       "      <td>...</td>\n",
       "      <td>...</td>\n",
       "      <td>...</td>\n",
       "      <td>...</td>\n",
       "      <td>...</td>\n",
       "      <td>...</td>\n",
       "    </tr>\n",
       "    <tr>\n",
       "      <th>9646</th>\n",
       "      <td>21432</td>\n",
       "      <td>HALL OF JUSTICE</td>\n",
       "      <td>217 W TEMPLE AVE</td>\n",
       "      <td>False</td>\n",
       "      <td>Restaurant</td>\n",
       "      <td>122</td>\n",
       "    </tr>\n",
       "    <tr>\n",
       "      <th>9647</th>\n",
       "      <td>21433</td>\n",
       "      <td>FIN-MELROSE</td>\n",
       "      <td>5750 MELROSE AVE</td>\n",
       "      <td>False</td>\n",
       "      <td>Restaurant</td>\n",
       "      <td>93</td>\n",
       "    </tr>\n",
       "    <tr>\n",
       "      <th>9648</th>\n",
       "      <td>21434</td>\n",
       "      <td>JUICY WINGZ</td>\n",
       "      <td>6741 HOLLYWOOD BLVD</td>\n",
       "      <td>True</td>\n",
       "      <td>Fast Food</td>\n",
       "      <td>15</td>\n",
       "    </tr>\n",
       "    <tr>\n",
       "      <th>9649</th>\n",
       "      <td>21435</td>\n",
       "      <td>MEDIDATE COFFEE</td>\n",
       "      <td>548 S SPRING ST STE 100</td>\n",
       "      <td>False</td>\n",
       "      <td>Cafe</td>\n",
       "      <td>6</td>\n",
       "    </tr>\n",
       "    <tr>\n",
       "      <th>9650</th>\n",
       "      <td>21436</td>\n",
       "      <td>CAFE SPROUTS</td>\n",
       "      <td>1300 S SAN PEDRO ST STE 111</td>\n",
       "      <td>True</td>\n",
       "      <td>Restaurant</td>\n",
       "      <td>19</td>\n",
       "    </tr>\n",
       "  </tbody>\n",
       "</table>\n",
       "<p>9648 rows × 6 columns</p>\n",
       "</div>"
      ],
      "text/plain": [
       "         id          object_name                      address  chain  \\\n",
       "0     11786  HABITAT COFFEE SHOP       3708 N EAGLE ROCK BLVD  False   \n",
       "1     11787             REILLY'S          100 WORLD WAY # 120  False   \n",
       "2     11788       STREET CHURROS    6801 HOLLYWOOD BLVD # 253  False   \n",
       "3     11789    TRINITI ECHO PARK           1814 W SUNSET BLVD  False   \n",
       "4     11790               POLLEN           2100 ECHO PARK AVE  False   \n",
       "...     ...                  ...                          ...    ...   \n",
       "9646  21432      HALL OF JUSTICE             217 W TEMPLE AVE  False   \n",
       "9647  21433          FIN-MELROSE             5750 MELROSE AVE  False   \n",
       "9648  21434          JUICY WINGZ          6741 HOLLYWOOD BLVD   True   \n",
       "9649  21435      MEDIDATE COFFEE      548 S SPRING ST STE 100  False   \n",
       "9650  21436         CAFE SPROUTS  1300 S SAN PEDRO ST STE 111   True   \n",
       "\n",
       "     object_type  number  \n",
       "0           Cafe      26  \n",
       "1     Restaurant       9  \n",
       "2      Fast Food      20  \n",
       "3     Restaurant      22  \n",
       "4     Restaurant      20  \n",
       "...          ...     ...  \n",
       "9646  Restaurant     122  \n",
       "9647  Restaurant      93  \n",
       "9648   Fast Food      15  \n",
       "9649        Cafe       6  \n",
       "9650  Restaurant      19  \n",
       "\n",
       "[9648 rows x 6 columns]"
      ]
     },
     "execution_count": 7,
     "metadata": {},
     "output_type": "execute_result"
    }
   ],
   "source": [
    "# menghilangkan data duplikat jika ada\n",
    "rest.drop_duplicates()"
   ]
  },
  {
   "cell_type": "code",
   "execution_count": 8,
   "metadata": {},
   "outputs": [
    {
     "name": "stdout",
     "output_type": "stream",
     "text": [
      "<class 'pandas.core.frame.DataFrame'>\n",
      "Int64Index: 9648 entries, 0 to 9650\n",
      "Data columns (total 6 columns):\n",
      " #   Column       Non-Null Count  Dtype \n",
      "---  ------       --------------  ----- \n",
      " 0   id           9648 non-null   object\n",
      " 1   object_name  9648 non-null   object\n",
      " 2   address      9648 non-null   object\n",
      " 3   chain        9648 non-null   object\n",
      " 4   object_type  9648 non-null   object\n",
      " 5   number       9648 non-null   int64 \n",
      "dtypes: int64(1), object(5)\n",
      "memory usage: 527.6+ KB\n"
     ]
    }
   ],
   "source": [
    "rest.info()"
   ]
  },
  {
   "cell_type": "markdown",
   "metadata": {},
   "source": [
    "## Analisi data"
   ]
  },
  {
   "cell_type": "markdown",
   "metadata": {},
   "source": [
    "### Proporsi dari berbagai jenis usaha"
   ]
  },
  {
   "cell_type": "code",
   "execution_count": 9,
   "metadata": {},
   "outputs": [
    {
     "data": {
      "text/plain": [
       "array(['Cafe', 'Restaurant', 'Fast Food', 'Bakery', 'Bar', 'Pizza'],\n",
       "      dtype=object)"
      ]
     },
     "execution_count": 9,
     "metadata": {},
     "output_type": "execute_result"
    }
   ],
   "source": [
    "rest['object_type'].unique()"
   ]
  },
  {
   "cell_type": "code",
   "execution_count": 10,
   "metadata": {},
   "outputs": [
    {
     "data": {
      "text/html": [
       "<div>\n",
       "<style scoped>\n",
       "    .dataframe tbody tr th:only-of-type {\n",
       "        vertical-align: middle;\n",
       "    }\n",
       "\n",
       "    .dataframe tbody tr th {\n",
       "        vertical-align: top;\n",
       "    }\n",
       "\n",
       "    .dataframe thead th {\n",
       "        text-align: right;\n",
       "    }\n",
       "</style>\n",
       "<table border=\"1\" class=\"dataframe\">\n",
       "  <thead>\n",
       "    <tr style=\"text-align: right;\">\n",
       "      <th></th>\n",
       "      <th>index</th>\n",
       "      <th>object_type</th>\n",
       "    </tr>\n",
       "  </thead>\n",
       "  <tbody>\n",
       "    <tr>\n",
       "      <th>0</th>\n",
       "      <td>Restaurant</td>\n",
       "      <td>7253</td>\n",
       "    </tr>\n",
       "    <tr>\n",
       "      <th>1</th>\n",
       "      <td>Fast Food</td>\n",
       "      <td>1066</td>\n",
       "    </tr>\n",
       "    <tr>\n",
       "      <th>2</th>\n",
       "      <td>Cafe</td>\n",
       "      <td>435</td>\n",
       "    </tr>\n",
       "    <tr>\n",
       "      <th>3</th>\n",
       "      <td>Pizza</td>\n",
       "      <td>319</td>\n",
       "    </tr>\n",
       "    <tr>\n",
       "      <th>4</th>\n",
       "      <td>Bar</td>\n",
       "      <td>292</td>\n",
       "    </tr>\n",
       "    <tr>\n",
       "      <th>5</th>\n",
       "      <td>Bakery</td>\n",
       "      <td>283</td>\n",
       "    </tr>\n",
       "  </tbody>\n",
       "</table>\n",
       "</div>"
      ],
      "text/plain": [
       "        index  object_type\n",
       "0  Restaurant         7253\n",
       "1   Fast Food         1066\n",
       "2        Cafe          435\n",
       "3       Pizza          319\n",
       "4         Bar          292\n",
       "5      Bakery          283"
      ]
     },
     "execution_count": 10,
     "metadata": {},
     "output_type": "execute_result"
    }
   ],
   "source": [
    "rest_grouped = rest['object_type'].value_counts().reset_index()\n",
    "rest_grouped"
   ]
  },
  {
   "cell_type": "code",
   "execution_count": 11,
   "metadata": {},
   "outputs": [
    {
     "name": "stderr",
     "output_type": "stream",
     "text": [
      "/opt/conda/lib/python3.9/site-packages/seaborn/_decorators.py:36: FutureWarning: Pass the following variables as keyword args: x, y. From version 0.12, the only valid positional argument will be `data`, and passing other arguments without an explicit keyword will result in an error or misinterpretation.\n",
      "  warnings.warn(\n"
     ]
    },
    {
     "data": {
      "text/plain": [
       "[Text(0, 0, 'Restaurant'),\n",
       " Text(1, 0, 'Fast Food'),\n",
       " Text(2, 0, 'Cafe'),\n",
       " Text(3, 0, 'Pizza'),\n",
       " Text(4, 0, 'Bar'),\n",
       " Text(5, 0, 'Bakery')]"
      ]
     },
     "execution_count": 11,
     "metadata": {},
     "output_type": "execute_result"
    },
    {
     "data": {
      "image/png": "[encoded data removed]",
      "text/plain": [
       "<Figure size 720x432 with 1 Axes>"
      ]
     },
     "metadata": {
      "needs_background": "light"
     },
     "output_type": "display_data"
    }
   ],
   "source": [
    "fig, ax = plt.subplots(figsize=(10, 6))\n",
    "sns.barplot(rest_grouped['index'], rest_grouped['object_type'], ax=ax)\n",
    "labels = ax.get_xticklabels()\n",
    "plt.title('Proporsi berbagai jenis usaha', size=16)\n",
    "ax.set_xticklabels(labels, rotation=90)"
   ]
  },
  {
   "cell_type": "markdown",
   "metadata": {},
   "source": [
    "**Jenis usaha restaurant lebih tinggi proporsinya dibandingkan jenis usaha lain**"
   ]
  },
  {
   "cell_type": "markdown",
   "metadata": {},
   "source": [
    "### Proporsi dari usaha berbasis waralaba dan nonwaralaba"
   ]
  },
  {
   "cell_type": "code",
   "execution_count": 12,
   "metadata": {
    "scrolled": true
   },
   "outputs": [
    {
     "data": {
      "text/html": [
       "<div>\n",
       "<style scoped>\n",
       "    .dataframe tbody tr th:only-of-type {\n",
       "        vertical-align: middle;\n",
       "    }\n",
       "\n",
       "    .dataframe tbody tr th {\n",
       "        vertical-align: top;\n",
       "    }\n",
       "\n",
       "    .dataframe thead th {\n",
       "        text-align: right;\n",
       "    }\n",
       "</style>\n",
       "<table border=\"1\" class=\"dataframe\">\n",
       "  <thead>\n",
       "    <tr style=\"text-align: right;\">\n",
       "      <th></th>\n",
       "      <th>chain</th>\n",
       "      <th>id</th>\n",
       "      <th>object_name</th>\n",
       "      <th>address</th>\n",
       "      <th>object_type</th>\n",
       "      <th>number</th>\n",
       "    </tr>\n",
       "  </thead>\n",
       "  <tbody>\n",
       "    <tr>\n",
       "      <th>0</th>\n",
       "      <td>False</td>\n",
       "      <td>5972</td>\n",
       "      <td>5972</td>\n",
       "      <td>5972</td>\n",
       "      <td>5972</td>\n",
       "      <td>5972</td>\n",
       "    </tr>\n",
       "    <tr>\n",
       "      <th>1</th>\n",
       "      <td>True</td>\n",
       "      <td>3676</td>\n",
       "      <td>3676</td>\n",
       "      <td>3676</td>\n",
       "      <td>3676</td>\n",
       "      <td>3676</td>\n",
       "    </tr>\n",
       "  </tbody>\n",
       "</table>\n",
       "</div>"
      ],
      "text/plain": [
       "   chain    id  object_name  address  object_type  number\n",
       "0  False  5972         5972     5972         5972    5972\n",
       "1   True  3676         3676     3676         3676    3676"
      ]
     },
     "execution_count": 12,
     "metadata": {},
     "output_type": "execute_result"
    }
   ],
   "source": [
    "grouped_chain = rest.groupby('chain').count().reset_index()\n",
    "grouped_chain"
   ]
  },
  {
   "cell_type": "code",
   "execution_count": 13,
   "metadata": {},
   "outputs": [
    {
     "data": {
      "text/html": [
       "<div>\n",
       "<style scoped>\n",
       "    .dataframe tbody tr th:only-of-type {\n",
       "        vertical-align: middle;\n",
       "    }\n",
       "\n",
       "    .dataframe tbody tr th {\n",
       "        vertical-align: top;\n",
       "    }\n",
       "\n",
       "    .dataframe thead th {\n",
       "        text-align: right;\n",
       "    }\n",
       "</style>\n",
       "<table border=\"1\" class=\"dataframe\">\n",
       "  <thead>\n",
       "    <tr style=\"text-align: right;\">\n",
       "      <th></th>\n",
       "      <th>chain</th>\n",
       "      <th>id</th>\n",
       "      <th>object_name</th>\n",
       "      <th>address</th>\n",
       "      <th>object_type</th>\n",
       "      <th>number</th>\n",
       "    </tr>\n",
       "  </thead>\n",
       "  <tbody>\n",
       "    <tr>\n",
       "      <th>0</th>\n",
       "      <td>nonchain</td>\n",
       "      <td>5972</td>\n",
       "      <td>5972</td>\n",
       "      <td>5972</td>\n",
       "      <td>5972</td>\n",
       "      <td>5972</td>\n",
       "    </tr>\n",
       "    <tr>\n",
       "      <th>1</th>\n",
       "      <td>chain</td>\n",
       "      <td>3676</td>\n",
       "      <td>3676</td>\n",
       "      <td>3676</td>\n",
       "      <td>3676</td>\n",
       "      <td>3676</td>\n",
       "    </tr>\n",
       "  </tbody>\n",
       "</table>\n",
       "</div>"
      ],
      "text/plain": [
       "      chain    id  object_name  address  object_type  number\n",
       "0  nonchain  5972         5972     5972         5972    5972\n",
       "1     chain  3676         3676     3676         3676    3676"
      ]
     },
     "execution_count": 13,
     "metadata": {},
     "output_type": "execute_result"
    }
   ],
   "source": [
    "grouped_chain['chain'] = grouped_chain['chain'].replace([False], 'nonchain')\n",
    "grouped_chain['chain'] = grouped_chain['chain'].replace([True], 'chain')\n",
    "grouped_chain"
   ]
  },
  {
   "cell_type": "code",
   "execution_count": 14,
   "metadata": {},
   "outputs": [
    {
     "name": "stderr",
     "output_type": "stream",
     "text": [
      "/opt/conda/lib/python3.9/site-packages/seaborn/_decorators.py:36: FutureWarning: Pass the following variables as keyword args: x, y. From version 0.12, the only valid positional argument will be `data`, and passing other arguments without an explicit keyword will result in an error or misinterpretation.\n",
      "  warnings.warn(\n"
     ]
    },
    {
     "data": {
      "text/plain": [
       "Text(0, 0.5, 'Total business')"
      ]
     },
     "execution_count": 14,
     "metadata": {},
     "output_type": "execute_result"
    },
    {
     "data": {
      "image/png": "[encoded data removed]",
      "text/plain": [
       "<Figure size 720x432 with 1 Axes>"
      ]
     },
     "metadata": {
      "needs_background": "light"
     },
     "output_type": "display_data"
    }
   ],
   "source": [
    "fig, ax = plt.subplots(figsize=(10, 6))\n",
    "sns.barplot(grouped_chain['chain'], grouped_chain['id'])\n",
    "plt.title('Proporsi dari usaha berbasis waralaba dan nonwaralaba', size=16)\n",
    "plt.ylabel('Total business')"
   ]
  },
  {
   "cell_type": "markdown",
   "metadata": {},
   "source": [
    "**Proporsi usaha bukan waralaba lebih banyak dibandingkan jenis usaha waralaba**"
   ]
  },
  {
   "cell_type": "markdown",
   "metadata": {},
   "source": [
    "### Usaha berbasis waralaba"
   ]
  },
  {
   "cell_type": "code",
   "execution_count": 15,
   "metadata": {},
   "outputs": [
    {
     "data": {
      "text/html": [
       "<div>\n",
       "<style scoped>\n",
       "    .dataframe tbody tr th:only-of-type {\n",
       "        vertical-align: middle;\n",
       "    }\n",
       "\n",
       "    .dataframe tbody tr th {\n",
       "        vertical-align: top;\n",
       "    }\n",
       "\n",
       "    .dataframe thead th {\n",
       "        text-align: right;\n",
       "    }\n",
       "</style>\n",
       "<table border=\"1\" class=\"dataframe\">\n",
       "  <thead>\n",
       "    <tr style=\"text-align: right;\">\n",
       "      <th>chain</th>\n",
       "      <th>False</th>\n",
       "      <th>True</th>\n",
       "    </tr>\n",
       "    <tr>\n",
       "      <th>object_type</th>\n",
       "      <th></th>\n",
       "      <th></th>\n",
       "    </tr>\n",
       "  </thead>\n",
       "  <tbody>\n",
       "    <tr>\n",
       "      <th>Bakery</th>\n",
       "      <td>0.0</td>\n",
       "      <td>283.0</td>\n",
       "    </tr>\n",
       "    <tr>\n",
       "      <th>Bar</th>\n",
       "      <td>215.0</td>\n",
       "      <td>77.0</td>\n",
       "    </tr>\n",
       "    <tr>\n",
       "      <th>Cafe</th>\n",
       "      <td>169.0</td>\n",
       "      <td>266.0</td>\n",
       "    </tr>\n",
       "    <tr>\n",
       "      <th>Fast Food</th>\n",
       "      <td>461.0</td>\n",
       "      <td>605.0</td>\n",
       "    </tr>\n",
       "    <tr>\n",
       "      <th>Pizza</th>\n",
       "      <td>166.0</td>\n",
       "      <td>153.0</td>\n",
       "    </tr>\n",
       "    <tr>\n",
       "      <th>Restaurant</th>\n",
       "      <td>4961.0</td>\n",
       "      <td>2292.0</td>\n",
       "    </tr>\n",
       "  </tbody>\n",
       "</table>\n",
       "</div>"
      ],
      "text/plain": [
       "chain         False   True \n",
       "object_type                \n",
       "Bakery          0.0   283.0\n",
       "Bar           215.0    77.0\n",
       "Cafe          169.0   266.0\n",
       "Fast Food     461.0   605.0\n",
       "Pizza         166.0   153.0\n",
       "Restaurant   4961.0  2292.0"
      ]
     },
     "execution_count": 15,
     "metadata": {},
     "output_type": "execute_result"
    }
   ],
   "source": [
    "grouped_chain_object = pd.pivot_table(rest, values='object_name', index='object_type', columns=['chain'], aggfunc='count')\n",
    "grouped_chain_object = grouped_chain_object.fillna(0)\n",
    "grouped_chain_object"
   ]
  },
  {
   "cell_type": "code",
   "execution_count": 16,
   "metadata": {},
   "outputs": [
    {
     "data": {
      "text/html": [
       "<div>\n",
       "<style scoped>\n",
       "    .dataframe tbody tr th:only-of-type {\n",
       "        vertical-align: middle;\n",
       "    }\n",
       "\n",
       "    .dataframe tbody tr th {\n",
       "        vertical-align: top;\n",
       "    }\n",
       "\n",
       "    .dataframe thead th {\n",
       "        text-align: right;\n",
       "    }\n",
       "</style>\n",
       "<table border=\"1\" class=\"dataframe\">\n",
       "  <thead>\n",
       "    <tr style=\"text-align: right;\">\n",
       "      <th>chain</th>\n",
       "      <th>False</th>\n",
       "      <th>True</th>\n",
       "      <th>ratio</th>\n",
       "    </tr>\n",
       "    <tr>\n",
       "      <th>object_type</th>\n",
       "      <th></th>\n",
       "      <th></th>\n",
       "      <th></th>\n",
       "    </tr>\n",
       "  </thead>\n",
       "  <tbody>\n",
       "    <tr>\n",
       "      <th>Bakery</th>\n",
       "      <td>0.0</td>\n",
       "      <td>283.0</td>\n",
       "      <td>1.000000</td>\n",
       "    </tr>\n",
       "    <tr>\n",
       "      <th>Bar</th>\n",
       "      <td>215.0</td>\n",
       "      <td>77.0</td>\n",
       "      <td>0.263699</td>\n",
       "    </tr>\n",
       "    <tr>\n",
       "      <th>Cafe</th>\n",
       "      <td>169.0</td>\n",
       "      <td>266.0</td>\n",
       "      <td>0.611494</td>\n",
       "    </tr>\n",
       "    <tr>\n",
       "      <th>Fast Food</th>\n",
       "      <td>461.0</td>\n",
       "      <td>605.0</td>\n",
       "      <td>0.567542</td>\n",
       "    </tr>\n",
       "    <tr>\n",
       "      <th>Pizza</th>\n",
       "      <td>166.0</td>\n",
       "      <td>153.0</td>\n",
       "      <td>0.479624</td>\n",
       "    </tr>\n",
       "    <tr>\n",
       "      <th>Restaurant</th>\n",
       "      <td>4961.0</td>\n",
       "      <td>2292.0</td>\n",
       "      <td>0.316007</td>\n",
       "    </tr>\n",
       "  </tbody>\n",
       "</table>\n",
       "</div>"
      ],
      "text/plain": [
       "chain         False    True     ratio\n",
       "object_type                          \n",
       "Bakery          0.0   283.0  1.000000\n",
       "Bar           215.0    77.0  0.263699\n",
       "Cafe          169.0   266.0  0.611494\n",
       "Fast Food     461.0   605.0  0.567542\n",
       "Pizza         166.0   153.0  0.479624\n",
       "Restaurant   4961.0  2292.0  0.316007"
      ]
     },
     "execution_count": 16,
     "metadata": {},
     "output_type": "execute_result"
    }
   ],
   "source": [
    "grouped_chain_object['ratio']= grouped_chain_object[True]/(grouped_chain_object[True]+grouped_chain_object[False])\n",
    "grouped_chain_object"
   ]
  },
  {
   "cell_type": "code",
   "execution_count": 17,
   "metadata": {},
   "outputs": [
    {
     "data": {
      "text/plain": [
       "Text(0, 0.5, 'Rasio')"
      ]
     },
     "execution_count": 17,
     "metadata": {},
     "output_type": "execute_result"
    },
    {
     "data": {
      "image/png": "[encoded data removed]",
      "text/plain": [
       "<Figure size 432x288 with 1 Axes>"
      ]
     },
     "metadata": {
      "needs_background": "light"
     },
     "output_type": "display_data"
    }
   ],
   "source": [
    "grouped_chain_object['ratio'].sort_values().plot.bar()\n",
    "plt.title('Rasio jenis usaha chain dengan nonchain', size=16)\n",
    "plt.ylabel('Rasio')"
   ]
  },
  {
   "cell_type": "markdown",
   "metadata": {},
   "source": [
    "**Jika dilihat dari hasil data di atas ternyata jenis usaha seperti bakery adalah usaha berbasis waralaba, cafe dan fast food sebagian berbasis waralaba, sementara bar dan restoran kebanyakan berbasis nonwaralaba.**"
   ]
  },
  {
   "cell_type": "markdown",
   "metadata": {},
   "source": [
    "### Jumlah kursi berdasarkan janis usaha"
   ]
  },
  {
   "cell_type": "code",
   "execution_count": 18,
   "metadata": {
    "scrolled": true
   },
   "outputs": [
    {
     "data": {
      "text/html": [
       "<div>\n",
       "<style scoped>\n",
       "    .dataframe tbody tr th:only-of-type {\n",
       "        vertical-align: middle;\n",
       "    }\n",
       "\n",
       "    .dataframe tbody tr th {\n",
       "        vertical-align: top;\n",
       "    }\n",
       "\n",
       "    .dataframe thead th {\n",
       "        text-align: right;\n",
       "    }\n",
       "</style>\n",
       "<table border=\"1\" class=\"dataframe\">\n",
       "  <thead>\n",
       "    <tr style=\"text-align: right;\">\n",
       "      <th>chain</th>\n",
       "      <th>False</th>\n",
       "      <th>True</th>\n",
       "    </tr>\n",
       "    <tr>\n",
       "      <th>object_type</th>\n",
       "      <th></th>\n",
       "      <th></th>\n",
       "    </tr>\n",
       "  </thead>\n",
       "  <tbody>\n",
       "    <tr>\n",
       "      <th>Bakery</th>\n",
       "      <td>0.0</td>\n",
       "      <td>6162.0</td>\n",
       "    </tr>\n",
       "    <tr>\n",
       "      <th>Bar</th>\n",
       "      <td>9972.0</td>\n",
       "      <td>3100.0</td>\n",
       "    </tr>\n",
       "    <tr>\n",
       "      <th>Cafe</th>\n",
       "      <td>3981.0</td>\n",
       "      <td>6894.0</td>\n",
       "    </tr>\n",
       "    <tr>\n",
       "      <th>Fast Food</th>\n",
       "      <td>10895.0</td>\n",
       "      <td>23044.0</td>\n",
       "    </tr>\n",
       "    <tr>\n",
       "      <th>Pizza</th>\n",
       "      <td>5200.0</td>\n",
       "      <td>3906.0</td>\n",
       "    </tr>\n",
       "    <tr>\n",
       "      <th>Restaurant</th>\n",
       "      <td>245688.0</td>\n",
       "      <td>102810.0</td>\n",
       "    </tr>\n",
       "  </tbody>\n",
       "</table>\n",
       "</div>"
      ],
      "text/plain": [
       "chain           False     True \n",
       "object_type                    \n",
       "Bakery            0.0    6162.0\n",
       "Bar            9972.0    3100.0\n",
       "Cafe           3981.0    6894.0\n",
       "Fast Food     10895.0   23044.0\n",
       "Pizza          5200.0    3906.0\n",
       "Restaurant   245688.0  102810.0"
      ]
     },
     "execution_count": 18,
     "metadata": {},
     "output_type": "execute_result"
    }
   ],
   "source": [
    "grouped_number_object = pd.pivot_table(rest, values='number', index='object_type', columns=['chain'], aggfunc='sum')\n",
    "grouped_number_object = grouped_number_object.fillna(0)\n",
    "grouped_number_object"
   ]
  },
  {
   "cell_type": "code",
   "execution_count": 19,
   "metadata": {},
   "outputs": [
    {
     "data": {
      "text/html": [
       "<div>\n",
       "<style scoped>\n",
       "    .dataframe tbody tr th:only-of-type {\n",
       "        vertical-align: middle;\n",
       "    }\n",
       "\n",
       "    .dataframe tbody tr th {\n",
       "        vertical-align: top;\n",
       "    }\n",
       "\n",
       "    .dataframe thead th {\n",
       "        text-align: right;\n",
       "    }\n",
       "</style>\n",
       "<table border=\"1\" class=\"dataframe\">\n",
       "  <thead>\n",
       "    <tr style=\"text-align: right;\">\n",
       "      <th>chain</th>\n",
       "      <th>False</th>\n",
       "      <th>True</th>\n",
       "      <th>ratio</th>\n",
       "    </tr>\n",
       "    <tr>\n",
       "      <th>object_type</th>\n",
       "      <th></th>\n",
       "      <th></th>\n",
       "      <th></th>\n",
       "    </tr>\n",
       "  </thead>\n",
       "  <tbody>\n",
       "    <tr>\n",
       "      <th>Bar</th>\n",
       "      <td>9972.0</td>\n",
       "      <td>3100.0</td>\n",
       "      <td>0.237148</td>\n",
       "    </tr>\n",
       "    <tr>\n",
       "      <th>Restaurant</th>\n",
       "      <td>245688.0</td>\n",
       "      <td>102810.0</td>\n",
       "      <td>0.295009</td>\n",
       "    </tr>\n",
       "    <tr>\n",
       "      <th>Pizza</th>\n",
       "      <td>5200.0</td>\n",
       "      <td>3906.0</td>\n",
       "      <td>0.428948</td>\n",
       "    </tr>\n",
       "    <tr>\n",
       "      <th>Cafe</th>\n",
       "      <td>3981.0</td>\n",
       "      <td>6894.0</td>\n",
       "      <td>0.633931</td>\n",
       "    </tr>\n",
       "    <tr>\n",
       "      <th>Fast Food</th>\n",
       "      <td>10895.0</td>\n",
       "      <td>23044.0</td>\n",
       "      <td>0.678983</td>\n",
       "    </tr>\n",
       "    <tr>\n",
       "      <th>Bakery</th>\n",
       "      <td>0.0</td>\n",
       "      <td>6162.0</td>\n",
       "      <td>1.000000</td>\n",
       "    </tr>\n",
       "  </tbody>\n",
       "</table>\n",
       "</div>"
      ],
      "text/plain": [
       "chain           False      True     ratio\n",
       "object_type                              \n",
       "Bar            9972.0    3100.0  0.237148\n",
       "Restaurant   245688.0  102810.0  0.295009\n",
       "Pizza          5200.0    3906.0  0.428948\n",
       "Cafe           3981.0    6894.0  0.633931\n",
       "Fast Food     10895.0   23044.0  0.678983\n",
       "Bakery            0.0    6162.0  1.000000"
      ]
     },
     "execution_count": 19,
     "metadata": {},
     "output_type": "execute_result"
    }
   ],
   "source": [
    "grouped_number_object['ratio']= grouped_number_object[True]/(grouped_number_object[True]+grouped_number_object[False])\n",
    "grouped_number_object.sort_values(by='ratio')"
   ]
  },
  {
   "cell_type": "code",
   "execution_count": 20,
   "metadata": {},
   "outputs": [
    {
     "data": {
      "text/plain": [
       "Text(0, 0.5, 'Rasio')"
      ]
     },
     "execution_count": 20,
     "metadata": {},
     "output_type": "execute_result"
    },
    {
     "data": {
      "image/png": "[encoded data removed]",
      "text/plain": [
       "<Figure size 432x288 with 1 Axes>"
      ]
     },
     "metadata": {
      "needs_background": "light"
     },
     "output_type": "display_data"
    }
   ],
   "source": [
    "grouped_number_object['ratio'].sort_values().plot.bar()\n",
    "plt.title('Rasio jumlah kursi terhadap jenis usaha chain', size=16)\n",
    "plt.ylabel('Rasio')"
   ]
  },
  {
   "cell_type": "code",
   "execution_count": 21,
   "metadata": {},
   "outputs": [
    {
     "data": {
      "text/html": [
       "<div>\n",
       "<style scoped>\n",
       "    .dataframe tbody tr th:only-of-type {\n",
       "        vertical-align: middle;\n",
       "    }\n",
       "\n",
       "    .dataframe tbody tr th {\n",
       "        vertical-align: top;\n",
       "    }\n",
       "\n",
       "    .dataframe thead th {\n",
       "        text-align: right;\n",
       "    }\n",
       "</style>\n",
       "<table border=\"1\" class=\"dataframe\">\n",
       "  <thead>\n",
       "    <tr style=\"text-align: right;\">\n",
       "      <th>chain</th>\n",
       "      <th>False</th>\n",
       "      <th>True</th>\n",
       "    </tr>\n",
       "    <tr>\n",
       "      <th>object_type</th>\n",
       "      <th></th>\n",
       "      <th></th>\n",
       "    </tr>\n",
       "  </thead>\n",
       "  <tbody>\n",
       "    <tr>\n",
       "      <th>Bakery</th>\n",
       "      <td>0.000000</td>\n",
       "      <td>21.773852</td>\n",
       "    </tr>\n",
       "    <tr>\n",
       "      <th>Bar</th>\n",
       "      <td>46.381395</td>\n",
       "      <td>40.259740</td>\n",
       "    </tr>\n",
       "    <tr>\n",
       "      <th>Cafe</th>\n",
       "      <td>23.556213</td>\n",
       "      <td>25.917293</td>\n",
       "    </tr>\n",
       "    <tr>\n",
       "      <th>Fast Food</th>\n",
       "      <td>23.633406</td>\n",
       "      <td>38.089256</td>\n",
       "    </tr>\n",
       "    <tr>\n",
       "      <th>Pizza</th>\n",
       "      <td>31.325301</td>\n",
       "      <td>25.529412</td>\n",
       "    </tr>\n",
       "    <tr>\n",
       "      <th>Restaurant</th>\n",
       "      <td>49.523886</td>\n",
       "      <td>44.856021</td>\n",
       "    </tr>\n",
       "  </tbody>\n",
       "</table>\n",
       "</div>"
      ],
      "text/plain": [
       "chain            False      True \n",
       "object_type                      \n",
       "Bakery        0.000000  21.773852\n",
       "Bar          46.381395  40.259740\n",
       "Cafe         23.556213  25.917293\n",
       "Fast Food    23.633406  38.089256\n",
       "Pizza        31.325301  25.529412\n",
       "Restaurant   49.523886  44.856021"
      ]
     },
     "execution_count": 21,
     "metadata": {},
     "output_type": "execute_result"
    }
   ],
   "source": [
    "grouped_number_object_mean = pd.pivot_table(rest, values='number', index='object_type', columns=['chain'], aggfunc='mean')\n",
    "grouped_number_object_mean = grouped_number_object_mean.fillna(0)\n",
    "grouped_number_object_mean"
   ]
  },
  {
   "cell_type": "code",
   "execution_count": 22,
   "metadata": {},
   "outputs": [
    {
     "data": {
      "text/html": [
       "<div>\n",
       "<style scoped>\n",
       "    .dataframe tbody tr th:only-of-type {\n",
       "        vertical-align: middle;\n",
       "    }\n",
       "\n",
       "    .dataframe tbody tr th {\n",
       "        vertical-align: top;\n",
       "    }\n",
       "\n",
       "    .dataframe thead th {\n",
       "        text-align: right;\n",
       "    }\n",
       "</style>\n",
       "<table border=\"1\" class=\"dataframe\">\n",
       "  <thead>\n",
       "    <tr style=\"text-align: right;\">\n",
       "      <th>chain</th>\n",
       "      <th>False</th>\n",
       "      <th>True</th>\n",
       "      <th>ratio</th>\n",
       "    </tr>\n",
       "    <tr>\n",
       "      <th>object_type</th>\n",
       "      <th></th>\n",
       "      <th></th>\n",
       "      <th></th>\n",
       "    </tr>\n",
       "  </thead>\n",
       "  <tbody>\n",
       "    <tr>\n",
       "      <th>Pizza</th>\n",
       "      <td>31.325301</td>\n",
       "      <td>25.529412</td>\n",
       "      <td>0.449029</td>\n",
       "    </tr>\n",
       "    <tr>\n",
       "      <th>Bar</th>\n",
       "      <td>46.381395</td>\n",
       "      <td>40.259740</td>\n",
       "      <td>0.464672</td>\n",
       "    </tr>\n",
       "    <tr>\n",
       "      <th>Restaurant</th>\n",
       "      <td>49.523886</td>\n",
       "      <td>44.856021</td>\n",
       "      <td>0.475271</td>\n",
       "    </tr>\n",
       "    <tr>\n",
       "      <th>Cafe</th>\n",
       "      <td>23.556213</td>\n",
       "      <td>25.917293</td>\n",
       "      <td>0.523862</td>\n",
       "    </tr>\n",
       "    <tr>\n",
       "      <th>Fast Food</th>\n",
       "      <td>23.633406</td>\n",
       "      <td>38.089256</td>\n",
       "      <td>0.617103</td>\n",
       "    </tr>\n",
       "    <tr>\n",
       "      <th>Bakery</th>\n",
       "      <td>0.000000</td>\n",
       "      <td>21.773852</td>\n",
       "      <td>1.000000</td>\n",
       "    </tr>\n",
       "  </tbody>\n",
       "</table>\n",
       "</div>"
      ],
      "text/plain": [
       "chain            False       True     ratio\n",
       "object_type                                \n",
       "Pizza        31.325301  25.529412  0.449029\n",
       "Bar          46.381395  40.259740  0.464672\n",
       "Restaurant   49.523886  44.856021  0.475271\n",
       "Cafe         23.556213  25.917293  0.523862\n",
       "Fast Food    23.633406  38.089256  0.617103\n",
       "Bakery        0.000000  21.773852  1.000000"
      ]
     },
     "execution_count": 22,
     "metadata": {},
     "output_type": "execute_result"
    }
   ],
   "source": [
    "grouped_number_object_mean['ratio']= grouped_number_object_mean[True]/(grouped_number_object_mean[True]+grouped_number_object_mean[False])\n",
    "grouped_number_object_mean.sort_values(by='ratio')"
   ]
  },
  {
   "cell_type": "code",
   "execution_count": 23,
   "metadata": {},
   "outputs": [
    {
     "data": {
      "text/plain": [
       "Text(0, 0.5, 'Rasio')"
      ]
     },
     "execution_count": 23,
     "metadata": {},
     "output_type": "execute_result"
    },
    {
     "data": {
      "image/png": "[encoded data removed]",
      "text/plain": [
       "<Figure size 432x288 with 1 Axes>"
      ]
     },
     "metadata": {
      "needs_background": "light"
     },
     "output_type": "display_data"
    }
   ],
   "source": [
    "grouped_number_object_mean['ratio'].sort_values().plot.bar()\n",
    "plt.title('Rasio rata-rata jumlah kursi terhadap jenis usaha chain', size=16)\n",
    "plt.ylabel('Rasio')"
   ]
  },
  {
   "cell_type": "markdown",
   "metadata": {},
   "source": [
    "**Karena bakery semuanya berbasis waralaba maka bakery yang rasio jumlah kursinya yang paling tinggi, yang ke dua yaitu fast food. tetapi jika dilihat dari jumlah kursinya, jumlah kursi yang paling banyak ada pada jenis usaha restoran. hal ini karena usaha restoran merupakan usaha makanan yang biasanya makan di tempat bukan take away seperti jenis usaha fast food, bakery ataupun pizza**"
   ]
  },
  {
   "cell_type": "markdown",
   "metadata": {},
   "source": [
    "###  Jumlah rata-rata kursi untuk setiap jenis usaha"
   ]
  },
  {
   "cell_type": "code",
   "execution_count": 24,
   "metadata": {},
   "outputs": [
    {
     "data": {
      "text/html": [
       "<div>\n",
       "<style scoped>\n",
       "    .dataframe tbody tr th:only-of-type {\n",
       "        vertical-align: middle;\n",
       "    }\n",
       "\n",
       "    .dataframe tbody tr th {\n",
       "        vertical-align: top;\n",
       "    }\n",
       "\n",
       "    .dataframe thead th {\n",
       "        text-align: right;\n",
       "    }\n",
       "</style>\n",
       "<table border=\"1\" class=\"dataframe\">\n",
       "  <thead>\n",
       "    <tr style=\"text-align: right;\">\n",
       "      <th></th>\n",
       "      <th>kursi_rata_rata</th>\n",
       "    </tr>\n",
       "    <tr>\n",
       "      <th>object_type</th>\n",
       "      <th></th>\n",
       "    </tr>\n",
       "  </thead>\n",
       "  <tbody>\n",
       "    <tr>\n",
       "      <th>Bakery</th>\n",
       "      <td>21.773852</td>\n",
       "    </tr>\n",
       "    <tr>\n",
       "      <th>Cafe</th>\n",
       "      <td>25.000000</td>\n",
       "    </tr>\n",
       "    <tr>\n",
       "      <th>Pizza</th>\n",
       "      <td>28.545455</td>\n",
       "    </tr>\n",
       "    <tr>\n",
       "      <th>Fast Food</th>\n",
       "      <td>31.837711</td>\n",
       "    </tr>\n",
       "    <tr>\n",
       "      <th>Bar</th>\n",
       "      <td>44.767123</td>\n",
       "    </tr>\n",
       "    <tr>\n",
       "      <th>Restaurant</th>\n",
       "      <td>48.048807</td>\n",
       "    </tr>\n",
       "  </tbody>\n",
       "</table>\n",
       "</div>"
      ],
      "text/plain": [
       "             kursi_rata_rata\n",
       "object_type                 \n",
       "Bakery             21.773852\n",
       "Cafe               25.000000\n",
       "Pizza              28.545455\n",
       "Fast Food          31.837711\n",
       "Bar                44.767123\n",
       "Restaurant         48.048807"
      ]
     },
     "execution_count": 24,
     "metadata": {},
     "output_type": "execute_result"
    }
   ],
   "source": [
    "rest.groupby('object_type').agg(kursi_rata_rata=('number', 'mean')).sort_values(by='kursi_rata_rata')"
   ]
  },
  {
   "cell_type": "code",
   "execution_count": 25,
   "metadata": {},
   "outputs": [
    {
     "data": {
      "text/plain": [
       "Text(0.5, 0, 'jumlah kursi')"
      ]
     },
     "execution_count": 25,
     "metadata": {},
     "output_type": "execute_result"
    },
    {
     "data": {
      "image/png": "[encoded data removed]",
      "text/plain": [
       "<Figure size 432x288 with 1 Axes>"
      ]
     },
     "metadata": {
      "needs_background": "light"
     },
     "output_type": "display_data"
    }
   ],
   "source": [
    "rest.groupby('object_type').agg(kursi_rata_rata=('number', 'mean')).sort_values(by='kursi_rata_rata').plot(kind='barh')\n",
    "plt.title('rata-rata kursi untuk semua jenis usaha', size=16)\n",
    "plt.xlabel('jumlah kursi')"
   ]
  },
  {
   "cell_type": "markdown",
   "metadata": {},
   "source": [
    "**Kursi paling banyak adalah jenis usaha restoran, karena kebanyakan orang datang ke restoran ataupun bar untuk makan di tempat, jika jenih usaha lain seperti bakery, fast food, pizza dan cafe biasanya jarang yang makan ditempat karena biasanya take away oleh karena itu jumlah rata-rata kursinya lebih sedikit dibandingkan jenis usaha restoran dan bar**"
   ]
  },
  {
   "cell_type": "markdown",
   "metadata": {},
   "source": [
    "### Pindahkan data nama jalan dari kolom address ke kolom terpisah"
   ]
  },
  {
   "cell_type": "code",
   "execution_count": 26,
   "metadata": {},
   "outputs": [
    {
     "name": "stderr",
     "output_type": "stream",
     "text": [
      "/tmp/ipykernel_73/2674069874.py:1: SettingWithCopyWarning: \n",
      "A value is trying to be set on a copy of a slice from a DataFrame.\n",
      "Try using .loc[row_indexer,col_indexer] = value instead\n",
      "\n",
      "See the caveats in the documentation: https://pandas.pydata.org/pandas-docs/stable/user_guide/indexing.html#returning-a-view-versus-a-copy\n",
      "  rest['address_fix'] = rest['address'].apply(lambda x: ' ' .join(x.split(' ')[1:])).to_frame()\n"
     ]
    },
    {
     "data": {
      "text/html": [
       "<div>\n",
       "<style scoped>\n",
       "    .dataframe tbody tr th:only-of-type {\n",
       "        vertical-align: middle;\n",
       "    }\n",
       "\n",
       "    .dataframe tbody tr th {\n",
       "        vertical-align: top;\n",
       "    }\n",
       "\n",
       "    .dataframe thead th {\n",
       "        text-align: right;\n",
       "    }\n",
       "</style>\n",
       "<table border=\"1\" class=\"dataframe\">\n",
       "  <thead>\n",
       "    <tr style=\"text-align: right;\">\n",
       "      <th></th>\n",
       "      <th>id</th>\n",
       "      <th>object_name</th>\n",
       "      <th>address</th>\n",
       "      <th>chain</th>\n",
       "      <th>object_type</th>\n",
       "      <th>number</th>\n",
       "      <th>address_fix</th>\n",
       "    </tr>\n",
       "  </thead>\n",
       "  <tbody>\n",
       "    <tr>\n",
       "      <th>0</th>\n",
       "      <td>11786</td>\n",
       "      <td>HABITAT COFFEE SHOP</td>\n",
       "      <td>3708 N EAGLE ROCK BLVD</td>\n",
       "      <td>False</td>\n",
       "      <td>Cafe</td>\n",
       "      <td>26</td>\n",
       "      <td>N EAGLE ROCK BLVD</td>\n",
       "    </tr>\n",
       "    <tr>\n",
       "      <th>1</th>\n",
       "      <td>11787</td>\n",
       "      <td>REILLY'S</td>\n",
       "      <td>100 WORLD WAY # 120</td>\n",
       "      <td>False</td>\n",
       "      <td>Restaurant</td>\n",
       "      <td>9</td>\n",
       "      <td>WORLD WAY # 120</td>\n",
       "    </tr>\n",
       "    <tr>\n",
       "      <th>2</th>\n",
       "      <td>11788</td>\n",
       "      <td>STREET CHURROS</td>\n",
       "      <td>6801 HOLLYWOOD BLVD # 253</td>\n",
       "      <td>False</td>\n",
       "      <td>Fast Food</td>\n",
       "      <td>20</td>\n",
       "      <td>HOLLYWOOD BLVD # 253</td>\n",
       "    </tr>\n",
       "    <tr>\n",
       "      <th>3</th>\n",
       "      <td>11789</td>\n",
       "      <td>TRINITI ECHO PARK</td>\n",
       "      <td>1814 W SUNSET BLVD</td>\n",
       "      <td>False</td>\n",
       "      <td>Restaurant</td>\n",
       "      <td>22</td>\n",
       "      <td>W SUNSET BLVD</td>\n",
       "    </tr>\n",
       "    <tr>\n",
       "      <th>4</th>\n",
       "      <td>11790</td>\n",
       "      <td>POLLEN</td>\n",
       "      <td>2100 ECHO PARK AVE</td>\n",
       "      <td>False</td>\n",
       "      <td>Restaurant</td>\n",
       "      <td>20</td>\n",
       "      <td>ECHO PARK AVE</td>\n",
       "    </tr>\n",
       "    <tr>\n",
       "      <th>...</th>\n",
       "      <td>...</td>\n",
       "      <td>...</td>\n",
       "      <td>...</td>\n",
       "      <td>...</td>\n",
       "      <td>...</td>\n",
       "      <td>...</td>\n",
       "      <td>...</td>\n",
       "    </tr>\n",
       "    <tr>\n",
       "      <th>9646</th>\n",
       "      <td>21432</td>\n",
       "      <td>HALL OF JUSTICE</td>\n",
       "      <td>217 W TEMPLE AVE</td>\n",
       "      <td>False</td>\n",
       "      <td>Restaurant</td>\n",
       "      <td>122</td>\n",
       "      <td>W TEMPLE AVE</td>\n",
       "    </tr>\n",
       "    <tr>\n",
       "      <th>9647</th>\n",
       "      <td>21433</td>\n",
       "      <td>FIN-MELROSE</td>\n",
       "      <td>5750 MELROSE AVE</td>\n",
       "      <td>False</td>\n",
       "      <td>Restaurant</td>\n",
       "      <td>93</td>\n",
       "      <td>MELROSE AVE</td>\n",
       "    </tr>\n",
       "    <tr>\n",
       "      <th>9648</th>\n",
       "      <td>21434</td>\n",
       "      <td>JUICY WINGZ</td>\n",
       "      <td>6741 HOLLYWOOD BLVD</td>\n",
       "      <td>True</td>\n",
       "      <td>Fast Food</td>\n",
       "      <td>15</td>\n",
       "      <td>HOLLYWOOD BLVD</td>\n",
       "    </tr>\n",
       "    <tr>\n",
       "      <th>9649</th>\n",
       "      <td>21435</td>\n",
       "      <td>MEDIDATE COFFEE</td>\n",
       "      <td>548 S SPRING ST STE 100</td>\n",
       "      <td>False</td>\n",
       "      <td>Cafe</td>\n",
       "      <td>6</td>\n",
       "      <td>S SPRING ST STE 100</td>\n",
       "    </tr>\n",
       "    <tr>\n",
       "      <th>9650</th>\n",
       "      <td>21436</td>\n",
       "      <td>CAFE SPROUTS</td>\n",
       "      <td>1300 S SAN PEDRO ST STE 111</td>\n",
       "      <td>True</td>\n",
       "      <td>Restaurant</td>\n",
       "      <td>19</td>\n",
       "      <td>S SAN PEDRO ST STE 111</td>\n",
       "    </tr>\n",
       "  </tbody>\n",
       "</table>\n",
       "<p>9648 rows × 7 columns</p>\n",
       "</div>"
      ],
      "text/plain": [
       "         id          object_name                      address  chain  \\\n",
       "0     11786  HABITAT COFFEE SHOP       3708 N EAGLE ROCK BLVD  False   \n",
       "1     11787             REILLY'S          100 WORLD WAY # 120  False   \n",
       "2     11788       STREET CHURROS    6801 HOLLYWOOD BLVD # 253  False   \n",
       "3     11789    TRINITI ECHO PARK           1814 W SUNSET BLVD  False   \n",
       "4     11790               POLLEN           2100 ECHO PARK AVE  False   \n",
       "...     ...                  ...                          ...    ...   \n",
       "9646  21432      HALL OF JUSTICE             217 W TEMPLE AVE  False   \n",
       "9647  21433          FIN-MELROSE             5750 MELROSE AVE  False   \n",
       "9648  21434          JUICY WINGZ          6741 HOLLYWOOD BLVD   True   \n",
       "9649  21435      MEDIDATE COFFEE      548 S SPRING ST STE 100  False   \n",
       "9650  21436         CAFE SPROUTS  1300 S SAN PEDRO ST STE 111   True   \n",
       "\n",
       "     object_type  number             address_fix  \n",
       "0           Cafe      26       N EAGLE ROCK BLVD  \n",
       "1     Restaurant       9         WORLD WAY # 120  \n",
       "2      Fast Food      20    HOLLYWOOD BLVD # 253  \n",
       "3     Restaurant      22           W SUNSET BLVD  \n",
       "4     Restaurant      20           ECHO PARK AVE  \n",
       "...          ...     ...                     ...  \n",
       "9646  Restaurant     122            W TEMPLE AVE  \n",
       "9647  Restaurant      93             MELROSE AVE  \n",
       "9648   Fast Food      15          HOLLYWOOD BLVD  \n",
       "9649        Cafe       6     S SPRING ST STE 100  \n",
       "9650  Restaurant      19  S SAN PEDRO ST STE 111  \n",
       "\n",
       "[9648 rows x 7 columns]"
      ]
     },
     "execution_count": 26,
     "metadata": {},
     "output_type": "execute_result"
    }
   ],
   "source": [
    "rest['address_fix'] = rest['address'].apply(lambda x: ' ' .join(x.split(' ')[1:])).to_frame()\n",
    "rest"
   ]
  },
  {
   "cell_type": "markdown",
   "metadata": {},
   "source": [
    "### Sepuluh nama jalan teratas berdasarkan jumlah usaha"
   ]
  },
  {
   "cell_type": "code",
   "execution_count": 27,
   "metadata": {},
   "outputs": [
    {
     "data": {
      "text/html": [
       "<div>\n",
       "<style scoped>\n",
       "    .dataframe tbody tr th:only-of-type {\n",
       "        vertical-align: middle;\n",
       "    }\n",
       "\n",
       "    .dataframe tbody tr th {\n",
       "        vertical-align: top;\n",
       "    }\n",
       "\n",
       "    .dataframe thead th {\n",
       "        text-align: right;\n",
       "    }\n",
       "</style>\n",
       "<table border=\"1\" class=\"dataframe\">\n",
       "  <thead>\n",
       "    <tr style=\"text-align: right;\">\n",
       "      <th></th>\n",
       "      <th>address_fix</th>\n",
       "      <th>id</th>\n",
       "    </tr>\n",
       "  </thead>\n",
       "  <tbody>\n",
       "    <tr>\n",
       "      <th>2691</th>\n",
       "      <td>W SUNSET BLVD</td>\n",
       "      <td>296</td>\n",
       "    </tr>\n",
       "    <tr>\n",
       "      <th>2622</th>\n",
       "      <td>W PICO BLVD</td>\n",
       "      <td>288</td>\n",
       "    </tr>\n",
       "    <tr>\n",
       "      <th>582</th>\n",
       "      <td>HOLLYWOOD BLVD</td>\n",
       "      <td>167</td>\n",
       "    </tr>\n",
       "    <tr>\n",
       "      <th>2837</th>\n",
       "      <td>WILSHIRE BLVD</td>\n",
       "      <td>161</td>\n",
       "    </tr>\n",
       "    <tr>\n",
       "      <th>1705</th>\n",
       "      <td>S VERMONT AVE</td>\n",
       "      <td>148</td>\n",
       "    </tr>\n",
       "    <tr>\n",
       "      <th>1918</th>\n",
       "      <td>SANTA MONICA BLVD</td>\n",
       "      <td>146</td>\n",
       "    </tr>\n",
       "    <tr>\n",
       "      <th>2170</th>\n",
       "      <td>W 3RD ST</td>\n",
       "      <td>145</td>\n",
       "    </tr>\n",
       "    <tr>\n",
       "      <th>147</th>\n",
       "      <td>BEVERLY BLVD</td>\n",
       "      <td>135</td>\n",
       "    </tr>\n",
       "    <tr>\n",
       "      <th>1295</th>\n",
       "      <td>S FIGUEROA ST</td>\n",
       "      <td>134</td>\n",
       "    </tr>\n",
       "    <tr>\n",
       "      <th>755</th>\n",
       "      <td>MELROSE AVE</td>\n",
       "      <td>128</td>\n",
       "    </tr>\n",
       "  </tbody>\n",
       "</table>\n",
       "</div>"
      ],
      "text/plain": [
       "            address_fix   id\n",
       "2691      W SUNSET BLVD  296\n",
       "2622        W PICO BLVD  288\n",
       "582      HOLLYWOOD BLVD  167\n",
       "2837      WILSHIRE BLVD  161\n",
       "1705      S VERMONT AVE  148\n",
       "1918  SANTA MONICA BLVD  146\n",
       "2170           W 3RD ST  145\n",
       "147        BEVERLY BLVD  135\n",
       "1295      S FIGUEROA ST  134\n",
       "755         MELROSE AVE  128"
      ]
     },
     "execution_count": 27,
     "metadata": {},
     "output_type": "execute_result"
    }
   ],
   "source": [
    "rest_address_top = rest.groupby('address_fix')['id'].count().reset_index()\n",
    "rest_address_top_final = rest_address_top.sort_values(by='id', ascending=False).head(10)\n",
    "rest_address_top_final"
   ]
  },
  {
   "cell_type": "code",
   "execution_count": 28,
   "metadata": {},
   "outputs": [
    {
     "name": "stderr",
     "output_type": "stream",
     "text": [
      "/opt/conda/lib/python3.9/site-packages/seaborn/_decorators.py:36: FutureWarning: Pass the following variables as keyword args: x, y. From version 0.12, the only valid positional argument will be `data`, and passing other arguments without an explicit keyword will result in an error or misinterpretation.\n",
      "  warnings.warn(\n"
     ]
    },
    {
     "data": {
      "text/plain": [
       "[Text(0, 0, 'W SUNSET BLVD'),\n",
       " Text(1, 0, 'W PICO BLVD'),\n",
       " Text(2, 0, 'HOLLYWOOD BLVD'),\n",
       " Text(3, 0, 'WILSHIRE BLVD'),\n",
       " Text(4, 0, 'S VERMONT AVE'),\n",
       " Text(5, 0, 'SANTA MONICA BLVD'),\n",
       " Text(6, 0, 'W 3RD ST'),\n",
       " Text(7, 0, 'BEVERLY BLVD'),\n",
       " Text(8, 0, 'S FIGUEROA ST'),\n",
       " Text(9, 0, 'MELROSE AVE')]"
      ]
     },
     "execution_count": 28,
     "metadata": {},
     "output_type": "execute_result"
    },
    {
     "data": {
      "image/png": "[encoded data removed]",
      "text/plain": [
       "<Figure size 864x576 with 1 Axes>"
      ]
     },
     "metadata": {
      "needs_background": "light"
     },
     "output_type": "display_data"
    }
   ],
   "source": [
    "fig, ax = plt.subplots(figsize=(12, 8))\n",
    "sns.barplot(rest_address_top_final['address_fix'], rest_address_top_final['id'])\n",
    "plt.title('Nama jalan dengan jumlah usaha', size=16)\n",
    "plt.ylabel('Jumlah usaha')\n",
    "labels = ax.get_xticklabels()\n",
    "ax.set_xticklabels(labels, rotation=90)"
   ]
  },
  {
   "cell_type": "markdown",
   "metadata": {},
   "source": [
    "**Jalan W SUNSET BLVD adalah nama jalan dengan jumlah usaha makanan paling banyak dibandingkan di jalan lain di LA**"
   ]
  },
  {
   "cell_type": "markdown",
   "metadata": {},
   "source": [
    "### Jumlah jalan yang hanya memiliki satu usaha"
   ]
  },
  {
   "cell_type": "code",
   "execution_count": 29,
   "metadata": {},
   "outputs": [
    {
     "data": {
      "text/plain": [
       "3097"
      ]
     },
     "execution_count": 29,
     "metadata": {},
     "output_type": "execute_result"
    }
   ],
   "source": [
    "#  jumlah jalan keseluruhan\n",
    "rest['address_fix'].nunique()"
   ]
  },
  {
   "cell_type": "code",
   "execution_count": 30,
   "metadata": {
    "scrolled": false
   },
   "outputs": [
    {
     "data": {
      "text/html": [
       "<div>\n",
       "<style scoped>\n",
       "    .dataframe tbody tr th:only-of-type {\n",
       "        vertical-align: middle;\n",
       "    }\n",
       "\n",
       "    .dataframe tbody tr th {\n",
       "        vertical-align: top;\n",
       "    }\n",
       "\n",
       "    .dataframe thead th {\n",
       "        text-align: right;\n",
       "    }\n",
       "</style>\n",
       "<table border=\"1\" class=\"dataframe\">\n",
       "  <thead>\n",
       "    <tr style=\"text-align: right;\">\n",
       "      <th></th>\n",
       "      <th>address_fix</th>\n",
       "      <th>object_type</th>\n",
       "    </tr>\n",
       "  </thead>\n",
       "  <tbody>\n",
       "    <tr>\n",
       "      <th>0</th>\n",
       "      <td>1/2 3RD ST</td>\n",
       "      <td>1</td>\n",
       "    </tr>\n",
       "    <tr>\n",
       "      <th>1</th>\n",
       "      <td>1/2 7TH ST</td>\n",
       "      <td>1</td>\n",
       "    </tr>\n",
       "    <tr>\n",
       "      <th>2</th>\n",
       "      <td>1/2 BEVERLY BLVD</td>\n",
       "      <td>1</td>\n",
       "    </tr>\n",
       "    <tr>\n",
       "      <th>3</th>\n",
       "      <td>1/2 CITY TERRACE DR</td>\n",
       "      <td>1</td>\n",
       "    </tr>\n",
       "    <tr>\n",
       "      <th>4</th>\n",
       "      <td>1/2 COLORADO BLVD</td>\n",
       "      <td>1</td>\n",
       "    </tr>\n",
       "    <tr>\n",
       "      <th>...</th>\n",
       "      <td>...</td>\n",
       "      <td>...</td>\n",
       "    </tr>\n",
       "    <tr>\n",
       "      <th>3090</th>\n",
       "      <td>YORK BLVD # B</td>\n",
       "      <td>1</td>\n",
       "    </tr>\n",
       "    <tr>\n",
       "      <th>3091</th>\n",
       "      <td>YOSEMITE DR</td>\n",
       "      <td>1</td>\n",
       "    </tr>\n",
       "    <tr>\n",
       "      <th>3093</th>\n",
       "      <td>Z00 DR</td>\n",
       "      <td>1</td>\n",
       "    </tr>\n",
       "    <tr>\n",
       "      <th>3095</th>\n",
       "      <td>ZOO DR</td>\n",
       "      <td>1</td>\n",
       "    </tr>\n",
       "    <tr>\n",
       "      <th>3096</th>\n",
       "      <td>hollywood BLVD</td>\n",
       "      <td>1</td>\n",
       "    </tr>\n",
       "  </tbody>\n",
       "</table>\n",
       "<p>2761 rows × 2 columns</p>\n",
       "</div>"
      ],
      "text/plain": [
       "              address_fix  object_type\n",
       "0              1/2 3RD ST            1\n",
       "1              1/2 7TH ST            1\n",
       "2        1/2 BEVERLY BLVD            1\n",
       "3     1/2 CITY TERRACE DR            1\n",
       "4       1/2 COLORADO BLVD            1\n",
       "...                   ...          ...\n",
       "3090        YORK BLVD # B            1\n",
       "3091          YOSEMITE DR            1\n",
       "3093               Z00 DR            1\n",
       "3095               ZOO DR            1\n",
       "3096       hollywood BLVD            1\n",
       "\n",
       "[2761 rows x 2 columns]"
      ]
     },
     "execution_count": 30,
     "metadata": {},
     "output_type": "execute_result"
    }
   ],
   "source": [
    "rest_1_type_only = rest.groupby('address_fix')['object_type'].apply(lambda x: x.nunique()).reset_index()\n",
    "rest_1_type_only.loc[rest_1_type_only['object_type']==1]"
   ]
  },
  {
   "cell_type": "markdown",
   "metadata": {},
   "source": [
    "<div class=\"alert alert-success\">\n",
    "<b>Adipta's comment v.1</b> <a class=\"tocSkip\"></a>\n",
    "\n",
    "Bagus, semua berjalan lancar.\n",
    "\n",
    "</div>"
   ]
  },
  {
   "cell_type": "markdown",
   "metadata": {},
   "source": [
    "### Distribusi jumlah kursi di jalan yang paling banyak usaha"
   ]
  },
  {
   "cell_type": "code",
   "execution_count": 31,
   "metadata": {
    "scrolled": false
   },
   "outputs": [
    {
     "data": {
      "text/html": [
       "<div>\n",
       "<style scoped>\n",
       "    .dataframe tbody tr th:only-of-type {\n",
       "        vertical-align: middle;\n",
       "    }\n",
       "\n",
       "    .dataframe tbody tr th {\n",
       "        vertical-align: top;\n",
       "    }\n",
       "\n",
       "    .dataframe thead th {\n",
       "        text-align: right;\n",
       "    }\n",
       "</style>\n",
       "<table border=\"1\" class=\"dataframe\">\n",
       "  <thead>\n",
       "    <tr style=\"text-align: right;\">\n",
       "      <th></th>\n",
       "      <th>id</th>\n",
       "      <th>object_name</th>\n",
       "      <th>address</th>\n",
       "      <th>chain</th>\n",
       "      <th>object_type</th>\n",
       "      <th>number</th>\n",
       "      <th>address_fix</th>\n",
       "    </tr>\n",
       "  </thead>\n",
       "  <tbody>\n",
       "    <tr>\n",
       "      <th>3</th>\n",
       "      <td>11789</td>\n",
       "      <td>TRINITI ECHO PARK</td>\n",
       "      <td>1814 W SUNSET BLVD</td>\n",
       "      <td>False</td>\n",
       "      <td>Restaurant</td>\n",
       "      <td>22</td>\n",
       "      <td>W SUNSET BLVD</td>\n",
       "    </tr>\n",
       "    <tr>\n",
       "      <th>10</th>\n",
       "      <td>11796</td>\n",
       "      <td>EL POLLO LOCO</td>\n",
       "      <td>5319 W SUNSET BLVD</td>\n",
       "      <td>True</td>\n",
       "      <td>Restaurant</td>\n",
       "      <td>38</td>\n",
       "      <td>W SUNSET BLVD</td>\n",
       "    </tr>\n",
       "    <tr>\n",
       "      <th>14</th>\n",
       "      <td>11800</td>\n",
       "      <td>CUSCATLECA BAKERY</td>\n",
       "      <td>2501 W SUNSET BLVD #A</td>\n",
       "      <td>True</td>\n",
       "      <td>Bakery</td>\n",
       "      <td>26</td>\n",
       "      <td>W SUNSET BLVD #A</td>\n",
       "    </tr>\n",
       "    <tr>\n",
       "      <th>31</th>\n",
       "      <td>11817</td>\n",
       "      <td>DUNES RESTAURANT</td>\n",
       "      <td>5625 W SUNSET BLVD</td>\n",
       "      <td>True</td>\n",
       "      <td>Restaurant</td>\n",
       "      <td>118</td>\n",
       "      <td>W SUNSET BLVD</td>\n",
       "    </tr>\n",
       "    <tr>\n",
       "      <th>33</th>\n",
       "      <td>11819</td>\n",
       "      <td>ONO HAWAIIAN BBQ</td>\n",
       "      <td>5539 W SUNSET BLVD</td>\n",
       "      <td>True</td>\n",
       "      <td>Restaurant</td>\n",
       "      <td>35</td>\n",
       "      <td>W SUNSET BLVD</td>\n",
       "    </tr>\n",
       "    <tr>\n",
       "      <th>...</th>\n",
       "      <td>...</td>\n",
       "      <td>...</td>\n",
       "      <td>...</td>\n",
       "      <td>...</td>\n",
       "      <td>...</td>\n",
       "      <td>...</td>\n",
       "      <td>...</td>\n",
       "    </tr>\n",
       "    <tr>\n",
       "      <th>9498</th>\n",
       "      <td>21284</td>\n",
       "      <td>PA ORD EXPRESS</td>\n",
       "      <td>5301 W SUNSET BLVD # 11</td>\n",
       "      <td>False</td>\n",
       "      <td>Fast Food</td>\n",
       "      <td>31</td>\n",
       "      <td>W SUNSET BLVD # 11</td>\n",
       "    </tr>\n",
       "    <tr>\n",
       "      <th>9523</th>\n",
       "      <td>21309</td>\n",
       "      <td>BUTTER'S ICE CREAM</td>\n",
       "      <td>2925 W SUNSET BLVD</td>\n",
       "      <td>False</td>\n",
       "      <td>Restaurant</td>\n",
       "      <td>29</td>\n",
       "      <td>W SUNSET BLVD</td>\n",
       "    </tr>\n",
       "    <tr>\n",
       "      <th>9527</th>\n",
       "      <td>21313</td>\n",
       "      <td>REGULA GUY'S PIZZA</td>\n",
       "      <td>5173 W SUNSET BLVD</td>\n",
       "      <td>False</td>\n",
       "      <td>Pizza</td>\n",
       "      <td>20</td>\n",
       "      <td>W SUNSET BLVD</td>\n",
       "    </tr>\n",
       "    <tr>\n",
       "      <th>9562</th>\n",
       "      <td>21348</td>\n",
       "      <td>7-ELEVEN STORE #18778D</td>\n",
       "      <td>7600 W SUNSET BLVD</td>\n",
       "      <td>False</td>\n",
       "      <td>Restaurant</td>\n",
       "      <td>1</td>\n",
       "      <td>W SUNSET BLVD</td>\n",
       "    </tr>\n",
       "    <tr>\n",
       "      <th>9582</th>\n",
       "      <td>21368</td>\n",
       "      <td>HYDE LLC</td>\n",
       "      <td>8029 W SUNSET BLVD</td>\n",
       "      <td>False</td>\n",
       "      <td>Restaurant</td>\n",
       "      <td>42</td>\n",
       "      <td>W SUNSET BLVD</td>\n",
       "    </tr>\n",
       "  </tbody>\n",
       "</table>\n",
       "<p>368 rows × 7 columns</p>\n",
       "</div>"
      ],
      "text/plain": [
       "         id             object_name                  address  chain  \\\n",
       "3     11789       TRINITI ECHO PARK       1814 W SUNSET BLVD  False   \n",
       "10    11796           EL POLLO LOCO       5319 W SUNSET BLVD   True   \n",
       "14    11800       CUSCATLECA BAKERY    2501 W SUNSET BLVD #A   True   \n",
       "31    11817        DUNES RESTAURANT       5625 W SUNSET BLVD   True   \n",
       "33    11819        ONO HAWAIIAN BBQ       5539 W SUNSET BLVD   True   \n",
       "...     ...                     ...                      ...    ...   \n",
       "9498  21284          PA ORD EXPRESS  5301 W SUNSET BLVD # 11  False   \n",
       "9523  21309      BUTTER'S ICE CREAM       2925 W SUNSET BLVD  False   \n",
       "9527  21313      REGULA GUY'S PIZZA       5173 W SUNSET BLVD  False   \n",
       "9562  21348  7-ELEVEN STORE #18778D       7600 W SUNSET BLVD  False   \n",
       "9582  21368                HYDE LLC       8029 W SUNSET BLVD  False   \n",
       "\n",
       "     object_type  number         address_fix  \n",
       "3     Restaurant      22       W SUNSET BLVD  \n",
       "10    Restaurant      38       W SUNSET BLVD  \n",
       "14        Bakery      26    W SUNSET BLVD #A  \n",
       "31    Restaurant     118       W SUNSET BLVD  \n",
       "33    Restaurant      35       W SUNSET BLVD  \n",
       "...          ...     ...                 ...  \n",
       "9498   Fast Food      31  W SUNSET BLVD # 11  \n",
       "9523  Restaurant      29       W SUNSET BLVD  \n",
       "9527       Pizza      20       W SUNSET BLVD  \n",
       "9562  Restaurant       1       W SUNSET BLVD  \n",
       "9582  Restaurant      42       W SUNSET BLVD  \n",
       "\n",
       "[368 rows x 7 columns]"
      ]
     },
     "execution_count": 31,
     "metadata": {},
     "output_type": "execute_result"
    }
   ],
   "source": [
    "rest_pr = rest[rest['address_fix'].str.contains('W SUNSET BLVD')]\n",
    "rest_pr"
   ]
  },
  {
   "cell_type": "code",
   "execution_count": 32,
   "metadata": {},
   "outputs": [
    {
     "data": {
      "text/plain": [
       "Text(0.5, 1.0, 'histogram jumlah kursi dari tiap restoran di jalan W SUNSET BLVD')"
      ]
     },
     "execution_count": 32,
     "metadata": {},
     "output_type": "execute_result"
    },
    {
     "data": {
      "image/png": "[encoded data removed]",
      "text/plain": [
       "<Figure size 432x288 with 1 Axes>"
      ]
     },
     "metadata": {
      "needs_background": "light"
     },
     "output_type": "display_data"
    }
   ],
   "source": [
    "rest_pr['number'].hist()\n",
    "plt.title('histogram jumlah kursi dari tiap restoran di jalan W SUNSET BLVD')"
   ]
  },
  {
   "cell_type": "code",
   "execution_count": 33,
   "metadata": {
    "scrolled": true
   },
   "outputs": [
    {
     "data": {
      "text/plain": [
       "object_type\n",
       "Bakery         12\n",
       "Bar            13\n",
       "Cafe           24\n",
       "Fast Food      31\n",
       "Pizza          17\n",
       "Restaurant    271\n",
       "Name: id, dtype: int64"
      ]
     },
     "execution_count": 33,
     "metadata": {},
     "output_type": "execute_result"
    }
   ],
   "source": [
    "# jumlah usaha berdasarkan jenis usaha di jalan 'W SUNSET BLVD'\n",
    "rest_pr_grouped = rest_pr.groupby('object_type')['id'].count()\n",
    "rest_pr_grouped"
   ]
  },
  {
   "cell_type": "markdown",
   "metadata": {},
   "source": [
    "**Distribusi jumlah kursi di jalan W SUNSET BLVD yang paling besar distribusinya yaitu disekitar 0-48 kursi, yang lainnya diatas 50 kursi. Artinya banyak jenis usaha yang berbasis waralaba dibandingkan nonwaralaba. karena dilihat dari ciri-ciri waralaba yaitu jumlah kursi yang tidak begitu banyak.**"
   ]
  },
  {
   "cell_type": "markdown",
   "metadata": {},
   "source": [
    "## Kesimpulan"
   ]
  },
  {
   "cell_type": "markdown",
   "metadata": {},
   "source": [
    "**Dari hasil analisis data, usaha berbasis waralaba yaitu jenis usaha seperti bakery, cafe, pizza dan fastfood sedangkan usaha yang berbasis non waralaba yaitu seperti restoran dan bar, karena dapat dilihat dari jumlah kursi pada setiap jenis usaha, jumlah kursi pada usaha waralaba lebih sedikit dibandingkan dengan jumlah kursi pada usaha nonwaralaba. Jenis usaha yang memungkinkan untuk menggunakan pekerja robot sebagai pramusaji yaitu jenis usaha dengan jumlah kursi yang sedikit dibandingkan jenis usaha yang jumlah kursinya banyak, dimana jumlah kursi yang sedikit adalah ciri khas jenis usaha waralaba karena jika jumlah kursinya banyak maka memerlukan pekerja robot lebih banyak dan itu memerlukan biaya yang lebih besar lagi.**"
   ]
  },
  {
   "cell_type": "markdown",
   "metadata": {},
   "source": [
    "presentasi <https://docs.google.com/presentation/d/1cIoFVnhkYwh8GLNg5in3lhjLnj4MQDkQtGJW-MEAjiE/edit?usp=sharing>"
   ]
  }
 ],
 "metadata": {
  "kernelspec": {
   "display_name": "Python 3 (ipykernel)",
   "language": "python",
   "name": "python3"
  },
  "language_info": {
   "codemirror_mode": {
    "name": "ipython",
    "version": 3
   },
   "file_extension": ".py",
   "mimetype": "text/x-python",
   "name": "python",
   "nbconvert_exporter": "python",
   "pygments_lexer": "ipython3",
   "version": "3.10.9"
  },
  "toc": {
   "base_numbering": 1,
   "nav_menu": {},
   "number_sections": true,
   "sideBar": true,
   "skip_h1_title": true,
   "title_cell": "Table of Contents",
   "title_sidebar": "Contents",
   "toc_cell": false,
   "toc_position": {
    "height": "calc(100% - 180px)",
    "left": "10px",
    "top": "150px",
    "width": "165px"
   },
   "toc_section_display": true,
   "toc_window_display": true
  }
 },
 "nbformat": 4,
 "nbformat_minor": 2
}
