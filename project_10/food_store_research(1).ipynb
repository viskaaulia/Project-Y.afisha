{
 "cells": [
  {
   "cell_type": "markdown",
   "metadata": {},
   "source": [
    "## Deskripsi proyek"
   ]
  },
  {
   "cell_type": "markdown",
   "metadata": {},
   "source": [
    "Proyek ini bertujuan untuk mencari tahu perilaku pengguna aplikasi dari perusahaan startup yang menjual produk makanan dengan melihat jalur yang dilalui pengguna untuk mencapai ke tahap pembelian. Dan Mencari tahu font yang dapat memberikan hasil terbaik karena Tim web designer ingin mengubah font untuk keseluruhan aplikasi, keputusan diambil berdasarkan hasil A/A/B testing. Dua kelompok kontrol diperlihatkan dengan versi font lama dan satu kelompok uji diperlihatkan dengan versi font terbaru. Langkah-langkah yang akan dilakukan yaitu:\n",
    "\n",
    "1. Memuat library yang dibutuhkan\n",
    "2. Memuat datanya\n",
    "3. Melakukan Pra-pemrosesan\n",
    "4. Memeriksa data\n",
    "5. Mempelajari corong peristiwa\n",
    "4. Analisis hasil eksperimen\n",
    "5. Kesimpulan"
   ]
  },
  {
   "cell_type": "markdown",
   "metadata": {},
   "source": [
    "## Memuat Library"
   ]
  },
  {
   "cell_type": "code",
   "execution_count": 1,
   "metadata": {},
   "outputs": [],
   "source": [
    "import pandas as pd\n",
    "import matplotlib.pyplot as plt\n",
    "import numpy as np\n",
    "import seaborn as sns\n",
    "from scipy import stats\n",
    "import math"
   ]
  },
  {
   "cell_type": "markdown",
   "metadata": {},
   "source": [
    "# Memuat data"
   ]
  },
  {
   "cell_type": "code",
   "execution_count": 2,
   "metadata": {},
   "outputs": [
    {
     "data": {
      "text/html": [
       "<div>\n",
       "<style scoped>\n",
       "    .dataframe tbody tr th:only-of-type {\n",
       "        vertical-align: middle;\n",
       "    }\n",
       "\n",
       "    .dataframe tbody tr th {\n",
       "        vertical-align: top;\n",
       "    }\n",
       "\n",
       "    .dataframe thead th {\n",
       "        text-align: right;\n",
       "    }\n",
       "</style>\n",
       "<table border=\"1\" class=\"dataframe\">\n",
       "  <thead>\n",
       "    <tr style=\"text-align: right;\">\n",
       "      <th></th>\n",
       "      <th>EventName</th>\n",
       "      <th>DeviceIDHash</th>\n",
       "      <th>EventTimestamp</th>\n",
       "      <th>ExpId</th>\n",
       "    </tr>\n",
       "  </thead>\n",
       "  <tbody>\n",
       "    <tr>\n",
       "      <th>0</th>\n",
       "      <td>MainScreenAppear</td>\n",
       "      <td>4575588528974610257</td>\n",
       "      <td>1564029816</td>\n",
       "      <td>246</td>\n",
       "    </tr>\n",
       "    <tr>\n",
       "      <th>1</th>\n",
       "      <td>MainScreenAppear</td>\n",
       "      <td>7416695313311560658</td>\n",
       "      <td>1564053102</td>\n",
       "      <td>246</td>\n",
       "    </tr>\n",
       "    <tr>\n",
       "      <th>2</th>\n",
       "      <td>PaymentScreenSuccessful</td>\n",
       "      <td>3518123091307005509</td>\n",
       "      <td>1564054127</td>\n",
       "      <td>248</td>\n",
       "    </tr>\n",
       "    <tr>\n",
       "      <th>3</th>\n",
       "      <td>CartScreenAppear</td>\n",
       "      <td>3518123091307005509</td>\n",
       "      <td>1564054127</td>\n",
       "      <td>248</td>\n",
       "    </tr>\n",
       "    <tr>\n",
       "      <th>4</th>\n",
       "      <td>PaymentScreenSuccessful</td>\n",
       "      <td>6217807653094995999</td>\n",
       "      <td>1564055322</td>\n",
       "      <td>248</td>\n",
       "    </tr>\n",
       "    <tr>\n",
       "      <th>5</th>\n",
       "      <td>CartScreenAppear</td>\n",
       "      <td>6217807653094995999</td>\n",
       "      <td>1564055323</td>\n",
       "      <td>248</td>\n",
       "    </tr>\n",
       "    <tr>\n",
       "      <th>6</th>\n",
       "      <td>OffersScreenAppear</td>\n",
       "      <td>8351860793733343758</td>\n",
       "      <td>1564066242</td>\n",
       "      <td>246</td>\n",
       "    </tr>\n",
       "    <tr>\n",
       "      <th>7</th>\n",
       "      <td>MainScreenAppear</td>\n",
       "      <td>5682100281902512875</td>\n",
       "      <td>1564085677</td>\n",
       "      <td>246</td>\n",
       "    </tr>\n",
       "    <tr>\n",
       "      <th>8</th>\n",
       "      <td>MainScreenAppear</td>\n",
       "      <td>1850981295691852772</td>\n",
       "      <td>1564086702</td>\n",
       "      <td>247</td>\n",
       "    </tr>\n",
       "    <tr>\n",
       "      <th>9</th>\n",
       "      <td>MainScreenAppear</td>\n",
       "      <td>5407636962369102641</td>\n",
       "      <td>1564112112</td>\n",
       "      <td>246</td>\n",
       "    </tr>\n",
       "  </tbody>\n",
       "</table>\n",
       "</div>"
      ],
      "text/plain": [
       "                 EventName         DeviceIDHash  EventTimestamp  ExpId\n",
       "0         MainScreenAppear  4575588528974610257      1564029816    246\n",
       "1         MainScreenAppear  7416695313311560658      1564053102    246\n",
       "2  PaymentScreenSuccessful  3518123091307005509      1564054127    248\n",
       "3         CartScreenAppear  3518123091307005509      1564054127    248\n",
       "4  PaymentScreenSuccessful  6217807653094995999      1564055322    248\n",
       "5         CartScreenAppear  6217807653094995999      1564055323    248\n",
       "6       OffersScreenAppear  8351860793733343758      1564066242    246\n",
       "7         MainScreenAppear  5682100281902512875      1564085677    246\n",
       "8         MainScreenAppear  1850981295691852772      1564086702    247\n",
       "9         MainScreenAppear  5407636962369102641      1564112112    246"
      ]
     },
     "execution_count": 2,
     "metadata": {},
     "output_type": "execute_result"
    }
   ],
   "source": [
    "data = pd.read_csv('/datasets/logs_exp_us.csv', sep='\\t')\n",
    "data.head(10)"
   ]
  },
  {
   "cell_type": "markdown",
   "metadata": {},
   "source": [
    "## Pra-pemrosesan data"
   ]
  },
  {
   "cell_type": "code",
   "execution_count": 3,
   "metadata": {},
   "outputs": [
    {
     "data": {
      "text/html": [
       "<div>\n",
       "<style scoped>\n",
       "    .dataframe tbody tr th:only-of-type {\n",
       "        vertical-align: middle;\n",
       "    }\n",
       "\n",
       "    .dataframe tbody tr th {\n",
       "        vertical-align: top;\n",
       "    }\n",
       "\n",
       "    .dataframe thead th {\n",
       "        text-align: right;\n",
       "    }\n",
       "</style>\n",
       "<table border=\"1\" class=\"dataframe\">\n",
       "  <thead>\n",
       "    <tr style=\"text-align: right;\">\n",
       "      <th></th>\n",
       "      <th>event_name</th>\n",
       "      <th>user</th>\n",
       "      <th>timespent</th>\n",
       "      <th>exp_id</th>\n",
       "    </tr>\n",
       "  </thead>\n",
       "  <tbody>\n",
       "    <tr>\n",
       "      <th>0</th>\n",
       "      <td>MainScreenAppear</td>\n",
       "      <td>4575588528974610257</td>\n",
       "      <td>1564029816</td>\n",
       "      <td>246</td>\n",
       "    </tr>\n",
       "    <tr>\n",
       "      <th>1</th>\n",
       "      <td>MainScreenAppear</td>\n",
       "      <td>7416695313311560658</td>\n",
       "      <td>1564053102</td>\n",
       "      <td>246</td>\n",
       "    </tr>\n",
       "    <tr>\n",
       "      <th>2</th>\n",
       "      <td>PaymentScreenSuccessful</td>\n",
       "      <td>3518123091307005509</td>\n",
       "      <td>1564054127</td>\n",
       "      <td>248</td>\n",
       "    </tr>\n",
       "    <tr>\n",
       "      <th>3</th>\n",
       "      <td>CartScreenAppear</td>\n",
       "      <td>3518123091307005509</td>\n",
       "      <td>1564054127</td>\n",
       "      <td>248</td>\n",
       "    </tr>\n",
       "    <tr>\n",
       "      <th>4</th>\n",
       "      <td>PaymentScreenSuccessful</td>\n",
       "      <td>6217807653094995999</td>\n",
       "      <td>1564055322</td>\n",
       "      <td>248</td>\n",
       "    </tr>\n",
       "  </tbody>\n",
       "</table>\n",
       "</div>"
      ],
      "text/plain": [
       "                event_name                 user   timespent  exp_id\n",
       "0         MainScreenAppear  4575588528974610257  1564029816     246\n",
       "1         MainScreenAppear  7416695313311560658  1564053102     246\n",
       "2  PaymentScreenSuccessful  3518123091307005509  1564054127     248\n",
       "3         CartScreenAppear  3518123091307005509  1564054127     248\n",
       "4  PaymentScreenSuccessful  6217807653094995999  1564055322     248"
      ]
     },
     "execution_count": 3,
     "metadata": {},
     "output_type": "execute_result"
    }
   ],
   "source": [
    "# mengubah nama kolom\n",
    "data.rename(columns={\n",
    "    'EventName' : 'event_name',\n",
    "    'DeviceIDHash': 'user',\n",
    "    'EventTimestamp' : 'timespent',\n",
    "    'ExpId' : 'exp_id'}, inplace=True)\n",
    "data.head()"
   ]
  },
  {
   "cell_type": "code",
   "execution_count": 4,
   "metadata": {},
   "outputs": [
    {
     "name": "stdout",
     "output_type": "stream",
     "text": [
      "<class 'pandas.core.frame.DataFrame'>\n",
      "RangeIndex: 244126 entries, 0 to 244125\n",
      "Data columns (total 4 columns):\n",
      " #   Column      Non-Null Count   Dtype \n",
      "---  ------      --------------   ----- \n",
      " 0   event_name  244126 non-null  object\n",
      " 1   user        244126 non-null  int64 \n",
      " 2   timespent   244126 non-null  int64 \n",
      " 3   exp_id      244126 non-null  int64 \n",
      "dtypes: int64(3), object(1)\n",
      "memory usage: 7.5+ MB\n"
     ]
    },
    {
     "data": {
      "text/html": [
       "<div>\n",
       "<style scoped>\n",
       "    .dataframe tbody tr th:only-of-type {\n",
       "        vertical-align: middle;\n",
       "    }\n",
       "\n",
       "    .dataframe tbody tr th {\n",
       "        vertical-align: top;\n",
       "    }\n",
       "\n",
       "    .dataframe thead th {\n",
       "        text-align: right;\n",
       "    }\n",
       "</style>\n",
       "<table border=\"1\" class=\"dataframe\">\n",
       "  <thead>\n",
       "    <tr style=\"text-align: right;\">\n",
       "      <th></th>\n",
       "      <th>user</th>\n",
       "      <th>timespent</th>\n",
       "      <th>exp_id</th>\n",
       "    </tr>\n",
       "  </thead>\n",
       "  <tbody>\n",
       "    <tr>\n",
       "      <th>count</th>\n",
       "      <td>2.441260e+05</td>\n",
       "      <td>2.441260e+05</td>\n",
       "      <td>244126.000000</td>\n",
       "    </tr>\n",
       "    <tr>\n",
       "      <th>mean</th>\n",
       "      <td>4.627568e+18</td>\n",
       "      <td>1.564914e+09</td>\n",
       "      <td>247.022296</td>\n",
       "    </tr>\n",
       "    <tr>\n",
       "      <th>std</th>\n",
       "      <td>2.642425e+18</td>\n",
       "      <td>1.771343e+05</td>\n",
       "      <td>0.824434</td>\n",
       "    </tr>\n",
       "    <tr>\n",
       "      <th>min</th>\n",
       "      <td>6.888747e+15</td>\n",
       "      <td>1.564030e+09</td>\n",
       "      <td>246.000000</td>\n",
       "    </tr>\n",
       "    <tr>\n",
       "      <th>25%</th>\n",
       "      <td>2.372212e+18</td>\n",
       "      <td>1.564757e+09</td>\n",
       "      <td>246.000000</td>\n",
       "    </tr>\n",
       "    <tr>\n",
       "      <th>50%</th>\n",
       "      <td>4.623192e+18</td>\n",
       "      <td>1.564919e+09</td>\n",
       "      <td>247.000000</td>\n",
       "    </tr>\n",
       "    <tr>\n",
       "      <th>75%</th>\n",
       "      <td>6.932517e+18</td>\n",
       "      <td>1.565075e+09</td>\n",
       "      <td>248.000000</td>\n",
       "    </tr>\n",
       "    <tr>\n",
       "      <th>max</th>\n",
       "      <td>9.222603e+18</td>\n",
       "      <td>1.565213e+09</td>\n",
       "      <td>248.000000</td>\n",
       "    </tr>\n",
       "  </tbody>\n",
       "</table>\n",
       "</div>"
      ],
      "text/plain": [
       "               user     timespent         exp_id\n",
       "count  2.441260e+05  2.441260e+05  244126.000000\n",
       "mean   4.627568e+18  1.564914e+09     247.022296\n",
       "std    2.642425e+18  1.771343e+05       0.824434\n",
       "min    6.888747e+15  1.564030e+09     246.000000\n",
       "25%    2.372212e+18  1.564757e+09     246.000000\n",
       "50%    4.623192e+18  1.564919e+09     247.000000\n",
       "75%    6.932517e+18  1.565075e+09     248.000000\n",
       "max    9.222603e+18  1.565213e+09     248.000000"
      ]
     },
     "execution_count": 4,
     "metadata": {},
     "output_type": "execute_result"
    }
   ],
   "source": [
    "data.info()\n",
    "data.describe()"
   ]
  },
  {
   "cell_type": "code",
   "execution_count": 5,
   "metadata": {
    "scrolled": true
   },
   "outputs": [
    {
     "data": {
      "text/html": [
       "<div>\n",
       "<style scoped>\n",
       "    .dataframe tbody tr th:only-of-type {\n",
       "        vertical-align: middle;\n",
       "    }\n",
       "\n",
       "    .dataframe tbody tr th {\n",
       "        vertical-align: top;\n",
       "    }\n",
       "\n",
       "    .dataframe thead th {\n",
       "        text-align: right;\n",
       "    }\n",
       "</style>\n",
       "<table border=\"1\" class=\"dataframe\">\n",
       "  <thead>\n",
       "    <tr style=\"text-align: right;\">\n",
       "      <th></th>\n",
       "      <th>event_name</th>\n",
       "      <th>user</th>\n",
       "      <th>timespent</th>\n",
       "      <th>exp_id</th>\n",
       "      <th>date</th>\n",
       "    </tr>\n",
       "  </thead>\n",
       "  <tbody>\n",
       "    <tr>\n",
       "      <th>0</th>\n",
       "      <td>MainScreenAppear</td>\n",
       "      <td>4575588528974610257</td>\n",
       "      <td>2019-07-25 04:43:36</td>\n",
       "      <td>246</td>\n",
       "      <td>2019-07-25</td>\n",
       "    </tr>\n",
       "    <tr>\n",
       "      <th>1</th>\n",
       "      <td>MainScreenAppear</td>\n",
       "      <td>7416695313311560658</td>\n",
       "      <td>2019-07-25 11:11:42</td>\n",
       "      <td>246</td>\n",
       "      <td>2019-07-25</td>\n",
       "    </tr>\n",
       "    <tr>\n",
       "      <th>2</th>\n",
       "      <td>PaymentScreenSuccessful</td>\n",
       "      <td>3518123091307005509</td>\n",
       "      <td>2019-07-25 11:28:47</td>\n",
       "      <td>248</td>\n",
       "      <td>2019-07-25</td>\n",
       "    </tr>\n",
       "    <tr>\n",
       "      <th>3</th>\n",
       "      <td>CartScreenAppear</td>\n",
       "      <td>3518123091307005509</td>\n",
       "      <td>2019-07-25 11:28:47</td>\n",
       "      <td>248</td>\n",
       "      <td>2019-07-25</td>\n",
       "    </tr>\n",
       "    <tr>\n",
       "      <th>4</th>\n",
       "      <td>PaymentScreenSuccessful</td>\n",
       "      <td>6217807653094995999</td>\n",
       "      <td>2019-07-25 11:48:42</td>\n",
       "      <td>248</td>\n",
       "      <td>2019-07-25</td>\n",
       "    </tr>\n",
       "    <tr>\n",
       "      <th>5</th>\n",
       "      <td>CartScreenAppear</td>\n",
       "      <td>6217807653094995999</td>\n",
       "      <td>2019-07-25 11:48:43</td>\n",
       "      <td>248</td>\n",
       "      <td>2019-07-25</td>\n",
       "    </tr>\n",
       "    <tr>\n",
       "      <th>6</th>\n",
       "      <td>OffersScreenAppear</td>\n",
       "      <td>8351860793733343758</td>\n",
       "      <td>2019-07-25 14:50:42</td>\n",
       "      <td>246</td>\n",
       "      <td>2019-07-25</td>\n",
       "    </tr>\n",
       "    <tr>\n",
       "      <th>7</th>\n",
       "      <td>MainScreenAppear</td>\n",
       "      <td>5682100281902512875</td>\n",
       "      <td>2019-07-25 20:14:37</td>\n",
       "      <td>246</td>\n",
       "      <td>2019-07-25</td>\n",
       "    </tr>\n",
       "    <tr>\n",
       "      <th>8</th>\n",
       "      <td>MainScreenAppear</td>\n",
       "      <td>1850981295691852772</td>\n",
       "      <td>2019-07-25 20:31:42</td>\n",
       "      <td>247</td>\n",
       "      <td>2019-07-25</td>\n",
       "    </tr>\n",
       "    <tr>\n",
       "      <th>9</th>\n",
       "      <td>MainScreenAppear</td>\n",
       "      <td>5407636962369102641</td>\n",
       "      <td>2019-07-26 03:35:12</td>\n",
       "      <td>246</td>\n",
       "      <td>2019-07-26</td>\n",
       "    </tr>\n",
       "  </tbody>\n",
       "</table>\n",
       "</div>"
      ],
      "text/plain": [
       "                event_name                 user           timespent  exp_id  \\\n",
       "0         MainScreenAppear  4575588528974610257 2019-07-25 04:43:36     246   \n",
       "1         MainScreenAppear  7416695313311560658 2019-07-25 11:11:42     246   \n",
       "2  PaymentScreenSuccessful  3518123091307005509 2019-07-25 11:28:47     248   \n",
       "3         CartScreenAppear  3518123091307005509 2019-07-25 11:28:47     248   \n",
       "4  PaymentScreenSuccessful  6217807653094995999 2019-07-25 11:48:42     248   \n",
       "5         CartScreenAppear  6217807653094995999 2019-07-25 11:48:43     248   \n",
       "6       OffersScreenAppear  8351860793733343758 2019-07-25 14:50:42     246   \n",
       "7         MainScreenAppear  5682100281902512875 2019-07-25 20:14:37     246   \n",
       "8         MainScreenAppear  1850981295691852772 2019-07-25 20:31:42     247   \n",
       "9         MainScreenAppear  5407636962369102641 2019-07-26 03:35:12     246   \n",
       "\n",
       "        date  \n",
       "0 2019-07-25  \n",
       "1 2019-07-25  \n",
       "2 2019-07-25  \n",
       "3 2019-07-25  \n",
       "4 2019-07-25  \n",
       "5 2019-07-25  \n",
       "6 2019-07-25  \n",
       "7 2019-07-25  \n",
       "8 2019-07-25  \n",
       "9 2019-07-26  "
      ]
     },
     "execution_count": 5,
     "metadata": {},
     "output_type": "execute_result"
    }
   ],
   "source": [
    "# menambakan kolom tanggal\n",
    "data['timespent'] = pd.to_datetime(data['timespent'], unit='s')\n",
    "data['date'] = data['timespent'].dt.floor('1D')\n",
    "data.head(10)"
   ]
  },
  {
   "cell_type": "code",
   "execution_count": 6,
   "metadata": {},
   "outputs": [],
   "source": [
    "# mengubah tipe kolom user\n",
    "data['user'] =data['user'].astype(str)"
   ]
  },
  {
   "cell_type": "code",
   "execution_count": 7,
   "metadata": {},
   "outputs": [
    {
     "name": "stdout",
     "output_type": "stream",
     "text": [
      "<class 'pandas.core.frame.DataFrame'>\n",
      "RangeIndex: 244126 entries, 0 to 244125\n",
      "Data columns (total 5 columns):\n",
      " #   Column      Non-Null Count   Dtype         \n",
      "---  ------      --------------   -----         \n",
      " 0   event_name  244126 non-null  object        \n",
      " 1   user        244126 non-null  object        \n",
      " 2   timespent   244126 non-null  datetime64[ns]\n",
      " 3   exp_id      244126 non-null  int64         \n",
      " 4   date        244126 non-null  datetime64[ns]\n",
      "dtypes: datetime64[ns](2), int64(1), object(2)\n",
      "memory usage: 9.3+ MB\n"
     ]
    }
   ],
   "source": [
    "data.info()"
   ]
  },
  {
   "cell_type": "markdown",
   "metadata": {},
   "source": [
    "Nama kolom sudah di sesuaikan, tidak ada nilai yang hilang, dan tipe data sudah sesuai"
   ]
  },
  {
   "cell_type": "markdown",
   "metadata": {},
   "source": [
    "## Memeriksa data"
   ]
  },
  {
   "cell_type": "code",
   "execution_count": 8,
   "metadata": {},
   "outputs": [
    {
     "data": {
      "text/plain": [
       "array(['MainScreenAppear', 'PaymentScreenSuccessful', 'CartScreenAppear',\n",
       "       'OffersScreenAppear', 'Tutorial'], dtype=object)"
      ]
     },
     "execution_count": 8,
     "metadata": {},
     "output_type": "execute_result"
    }
   ],
   "source": [
    "data['event_name'].unique()"
   ]
  },
  {
   "cell_type": "code",
   "execution_count": 9,
   "metadata": {},
   "outputs": [
    {
     "name": "stdout",
     "output_type": "stream",
     "text": [
      "244126 peristiwa\n",
      "7551 pengguna\n",
      "32.33028737915508 rata-rata peristiwa per pengguna\n"
     ]
    }
   ],
   "source": [
    "event = len(data['event_name'])\n",
    "users = len(data['user'].unique())\n",
    "event_per_users = event / users\n",
    "print(f'{event} peristiwa' )\n",
    "print(f'{users} pengguna' )\n",
    "print(f'{event_per_users} rata-rata peristiwa per pengguna' )"
   ]
  },
  {
   "cell_type": "markdown",
   "metadata": {},
   "source": [
    "Terdapat 7551 pengguna, 244126 peristiwa dan rata-rata peristiwa per pengguna adalah 32 peristiwa"
   ]
  },
  {
   "cell_type": "code",
   "execution_count": 10,
   "metadata": {},
   "outputs": [
    {
     "data": {
      "text/plain": [
       "(Timestamp('2019-07-25 00:00:00'), Timestamp('2019-08-07 00:00:00'))"
      ]
     },
     "execution_count": 10,
     "metadata": {},
     "output_type": "execute_result"
    }
   ],
   "source": [
    "# memeriksa tanggal minimum dan maksimum\n",
    "data.date.min(), data.date.max()"
   ]
  },
  {
   "cell_type": "code",
   "execution_count": 11,
   "metadata": {},
   "outputs": [
    {
     "data": {
      "text/plain": [
       "<AxesSubplot:>"
      ]
     },
     "execution_count": 11,
     "metadata": {},
     "output_type": "execute_result"
    },
    {
     "data": {
      "image/png": "[encoded data removed]",
      "text/plain": [
       "<Figure size 1008x360 with 1 Axes>"
      ]
     },
     "metadata": {
      "needs_background": "light"
     },
     "output_type": "display_data"
    }
   ],
   "source": [
    "from pandas.plotting import register_matplotlib_converters\n",
    "register_matplotlib_converters\n",
    "data['timespent'].hist(bins=100, figsize=(14 ,5))"
   ]
  },
  {
   "cell_type": "code",
   "execution_count": 12,
   "metadata": {},
   "outputs": [
    {
     "data": {
      "text/plain": [
       "<AxesSubplot:xlabel='date'>"
      ]
     },
     "execution_count": 12,
     "metadata": {},
     "output_type": "execute_result"
    },
    {
     "data": {
      "image/png": "[encoded data removed]",
      "text/plain": [
       "<Figure size 432x288 with 1 Axes>"
      ]
     },
     "metadata": {
      "needs_background": "light"
     },
     "output_type": "display_data"
    }
   ],
   "source": [
    "data.pivot_table(index='date', values='user', aggfunc='count').plot(style='o-', grid=True )"
   ]
  },
  {
   "cell_type": "markdown",
   "metadata": {},
   "source": [
    "data pada tanggal 25 sampai 31 juli datanya hanya sedikit, oleh karena itu data pada tanggal tersebut akan diabaikan saja"
   ]
  },
  {
   "cell_type": "code",
   "execution_count": 13,
   "metadata": {},
   "outputs": [
    {
     "data": {
      "text/html": [
       "<div>\n",
       "<style scoped>\n",
       "    .dataframe tbody tr th:only-of-type {\n",
       "        vertical-align: middle;\n",
       "    }\n",
       "\n",
       "    .dataframe tbody tr th {\n",
       "        vertical-align: top;\n",
       "    }\n",
       "\n",
       "    .dataframe thead th {\n",
       "        text-align: right;\n",
       "    }\n",
       "</style>\n",
       "<table border=\"1\" class=\"dataframe\">\n",
       "  <thead>\n",
       "    <tr style=\"text-align: right;\">\n",
       "      <th></th>\n",
       "      <th>event_name</th>\n",
       "      <th>user</th>\n",
       "      <th>timespent</th>\n",
       "      <th>exp_id</th>\n",
       "      <th>date</th>\n",
       "    </tr>\n",
       "  </thead>\n",
       "  <tbody>\n",
       "    <tr>\n",
       "      <th>1990</th>\n",
       "      <td>MainScreenAppear</td>\n",
       "      <td>7701922487875823903</td>\n",
       "      <td>2019-07-31 21:00:57</td>\n",
       "      <td>247</td>\n",
       "      <td>2019-07-31</td>\n",
       "    </tr>\n",
       "    <tr>\n",
       "      <th>1991</th>\n",
       "      <td>MainScreenAppear</td>\n",
       "      <td>2539077412200498909</td>\n",
       "      <td>2019-07-31 21:01:45</td>\n",
       "      <td>247</td>\n",
       "      <td>2019-07-31</td>\n",
       "    </tr>\n",
       "    <tr>\n",
       "      <th>1992</th>\n",
       "      <td>OffersScreenAppear</td>\n",
       "      <td>3286987355161301427</td>\n",
       "      <td>2019-07-31 21:02:21</td>\n",
       "      <td>248</td>\n",
       "      <td>2019-07-31</td>\n",
       "    </tr>\n",
       "    <tr>\n",
       "      <th>1993</th>\n",
       "      <td>OffersScreenAppear</td>\n",
       "      <td>3187166762535343300</td>\n",
       "      <td>2019-07-31 21:02:23</td>\n",
       "      <td>247</td>\n",
       "      <td>2019-07-31</td>\n",
       "    </tr>\n",
       "    <tr>\n",
       "      <th>1994</th>\n",
       "      <td>MainScreenAppear</td>\n",
       "      <td>1118952406011435924</td>\n",
       "      <td>2019-07-31 21:03:25</td>\n",
       "      <td>248</td>\n",
       "      <td>2019-07-31</td>\n",
       "    </tr>\n",
       "    <tr>\n",
       "      <th>1995</th>\n",
       "      <td>MainScreenAppear</td>\n",
       "      <td>929387516286850088</td>\n",
       "      <td>2019-07-31 21:05:35</td>\n",
       "      <td>248</td>\n",
       "      <td>2019-07-31</td>\n",
       "    </tr>\n",
       "    <tr>\n",
       "      <th>1996</th>\n",
       "      <td>OffersScreenAppear</td>\n",
       "      <td>3511569580412335882</td>\n",
       "      <td>2019-07-31 21:06:12</td>\n",
       "      <td>246</td>\n",
       "      <td>2019-07-31</td>\n",
       "    </tr>\n",
       "    <tr>\n",
       "      <th>1997</th>\n",
       "      <td>OffersScreenAppear</td>\n",
       "      <td>3511569580412335882</td>\n",
       "      <td>2019-07-31 21:07:16</td>\n",
       "      <td>246</td>\n",
       "      <td>2019-07-31</td>\n",
       "    </tr>\n",
       "    <tr>\n",
       "      <th>1998</th>\n",
       "      <td>MainScreenAppear</td>\n",
       "      <td>7701922487875823903</td>\n",
       "      <td>2019-07-31 21:07:27</td>\n",
       "      <td>247</td>\n",
       "      <td>2019-07-31</td>\n",
       "    </tr>\n",
       "    <tr>\n",
       "      <th>1999</th>\n",
       "      <td>OffersScreenAppear</td>\n",
       "      <td>5039418296347449582</td>\n",
       "      <td>2019-07-31 21:07:34</td>\n",
       "      <td>246</td>\n",
       "      <td>2019-07-31</td>\n",
       "    </tr>\n",
       "  </tbody>\n",
       "</table>\n",
       "</div>"
      ],
      "text/plain": [
       "              event_name                 user           timespent  exp_id  \\\n",
       "1990    MainScreenAppear  7701922487875823903 2019-07-31 21:00:57     247   \n",
       "1991    MainScreenAppear  2539077412200498909 2019-07-31 21:01:45     247   \n",
       "1992  OffersScreenAppear  3286987355161301427 2019-07-31 21:02:21     248   \n",
       "1993  OffersScreenAppear  3187166762535343300 2019-07-31 21:02:23     247   \n",
       "1994    MainScreenAppear  1118952406011435924 2019-07-31 21:03:25     248   \n",
       "1995    MainScreenAppear   929387516286850088 2019-07-31 21:05:35     248   \n",
       "1996  OffersScreenAppear  3511569580412335882 2019-07-31 21:06:12     246   \n",
       "1997  OffersScreenAppear  3511569580412335882 2019-07-31 21:07:16     246   \n",
       "1998    MainScreenAppear  7701922487875823903 2019-07-31 21:07:27     247   \n",
       "1999  OffersScreenAppear  5039418296347449582 2019-07-31 21:07:34     246   \n",
       "\n",
       "           date  \n",
       "1990 2019-07-31  \n",
       "1991 2019-07-31  \n",
       "1992 2019-07-31  \n",
       "1993 2019-07-31  \n",
       "1994 2019-07-31  \n",
       "1995 2019-07-31  \n",
       "1996 2019-07-31  \n",
       "1997 2019-07-31  \n",
       "1998 2019-07-31  \n",
       "1999 2019-07-31  "
      ]
     },
     "execution_count": 13,
     "metadata": {},
     "output_type": "execute_result"
    }
   ],
   "source": [
    "data.query('timespent > \"2019-07-31 21:00\"', inplace=True)\n",
    "data.head(10)"
   ]
  },
  {
   "cell_type": "code",
   "execution_count": 14,
   "metadata": {},
   "outputs": [
    {
     "data": {
      "text/plain": [
       "<AxesSubplot:>"
      ]
     },
     "execution_count": 14,
     "metadata": {},
     "output_type": "execute_result"
    },
    {
     "data": {
      "image/png": "[encoded data removed]",
      "text/plain": [
       "<Figure size 1008x360 with 1 Axes>"
      ]
     },
     "metadata": {
      "needs_background": "light"
     },
     "output_type": "display_data"
    }
   ],
   "source": [
    "data['timespent'].hist(bins=7*24, figsize=(14 ,5))"
   ]
  },
  {
   "cell_type": "code",
   "execution_count": 15,
   "metadata": {},
   "outputs": [
    {
     "name": "stdout",
     "output_type": "stream",
     "text": [
      "242136 peristiwa\n",
      "7538 pengguna\n",
      "32.12204828867073 rata-rata peristiwa per pengguna\n"
     ]
    }
   ],
   "source": [
    "event = len(data['event_name'])\n",
    "users = len(data['user'].unique())\n",
    "event_per_users = event / users\n",
    "print(f'{event} peristiwa' )\n",
    "print(f'{users} pengguna' )\n",
    "print(f'{event_per_users} rata-rata peristiwa per pengguna' )"
   ]
  },
  {
   "cell_type": "markdown",
   "metadata": {},
   "source": [
    "terlihat perbedaan dari jumlah pengguna dan peristiwa setelah data yang diambil hanya dari tanggal 31 juli saja"
   ]
  },
  {
   "cell_type": "code",
   "execution_count": 16,
   "metadata": {},
   "outputs": [
    {
     "data": {
      "text/plain": [
       "248    85039\n",
       "246    79679\n",
       "247    77418\n",
       "Name: exp_id, dtype: int64"
      ]
     },
     "execution_count": 16,
     "metadata": {},
     "output_type": "execute_result"
    }
   ],
   "source": [
    "data['exp_id'].value_counts()"
   ]
  },
  {
   "cell_type": "markdown",
   "metadata": {},
   "source": [
    "## Mempelajari corong peristiwa"
   ]
  },
  {
   "cell_type": "code",
   "execution_count": 17,
   "metadata": {},
   "outputs": [
    {
     "data": {
      "text/html": [
       "<div>\n",
       "<style scoped>\n",
       "    .dataframe tbody tr th:only-of-type {\n",
       "        vertical-align: middle;\n",
       "    }\n",
       "\n",
       "    .dataframe tbody tr th {\n",
       "        vertical-align: top;\n",
       "    }\n",
       "\n",
       "    .dataframe thead th {\n",
       "        text-align: right;\n",
       "    }\n",
       "</style>\n",
       "<table border=\"1\" class=\"dataframe\">\n",
       "  <thead>\n",
       "    <tr style=\"text-align: right;\">\n",
       "      <th></th>\n",
       "      <th>user</th>\n",
       "    </tr>\n",
       "    <tr>\n",
       "      <th>event_name</th>\n",
       "      <th></th>\n",
       "    </tr>\n",
       "  </thead>\n",
       "  <tbody>\n",
       "    <tr>\n",
       "      <th>MainScreenAppear</th>\n",
       "      <td>117992</td>\n",
       "    </tr>\n",
       "    <tr>\n",
       "      <th>OffersScreenAppear</th>\n",
       "      <td>46548</td>\n",
       "    </tr>\n",
       "    <tr>\n",
       "      <th>CartScreenAppear</th>\n",
       "      <td>42406</td>\n",
       "    </tr>\n",
       "    <tr>\n",
       "      <th>PaymentScreenSuccessful</th>\n",
       "      <td>34146</td>\n",
       "    </tr>\n",
       "    <tr>\n",
       "      <th>Tutorial</th>\n",
       "      <td>1044</td>\n",
       "    </tr>\n",
       "  </tbody>\n",
       "</table>\n",
       "</div>"
      ],
      "text/plain": [
       "                           user\n",
       "event_name                     \n",
       "MainScreenAppear         117992\n",
       "OffersScreenAppear        46548\n",
       "CartScreenAppear          42406\n",
       "PaymentScreenSuccessful   34146\n",
       "Tutorial                   1044"
      ]
     },
     "execution_count": 17,
     "metadata": {},
     "output_type": "execute_result"
    }
   ],
   "source": [
    "data.pivot_table(index='event_name', values='user', aggfunc='count').sort_values(by='user', ascending=False)"
   ]
  },
  {
   "cell_type": "markdown",
   "metadata": {},
   "source": [
    "Terdapat 5 event, MainScreenAppear paling tinggi nilainya sedangkan tutorial yang paling sedikit."
   ]
  },
  {
   "cell_type": "code",
   "execution_count": 18,
   "metadata": {},
   "outputs": [
    {
     "data": {
      "text/html": [
       "<div>\n",
       "<style scoped>\n",
       "    .dataframe tbody tr th:only-of-type {\n",
       "        vertical-align: middle;\n",
       "    }\n",
       "\n",
       "    .dataframe tbody tr th {\n",
       "        vertical-align: top;\n",
       "    }\n",
       "\n",
       "    .dataframe thead th {\n",
       "        text-align: right;\n",
       "    }\n",
       "</style>\n",
       "<table border=\"1\" class=\"dataframe\">\n",
       "  <thead>\n",
       "    <tr style=\"text-align: right;\">\n",
       "      <th></th>\n",
       "      <th>user</th>\n",
       "    </tr>\n",
       "    <tr>\n",
       "      <th>event_name</th>\n",
       "      <th></th>\n",
       "    </tr>\n",
       "  </thead>\n",
       "  <tbody>\n",
       "    <tr>\n",
       "      <th>MainScreenAppear</th>\n",
       "      <td>7423</td>\n",
       "    </tr>\n",
       "    <tr>\n",
       "      <th>OffersScreenAppear</th>\n",
       "      <td>4597</td>\n",
       "    </tr>\n",
       "    <tr>\n",
       "      <th>CartScreenAppear</th>\n",
       "      <td>3736</td>\n",
       "    </tr>\n",
       "    <tr>\n",
       "      <th>PaymentScreenSuccessful</th>\n",
       "      <td>3540</td>\n",
       "    </tr>\n",
       "    <tr>\n",
       "      <th>Tutorial</th>\n",
       "      <td>843</td>\n",
       "    </tr>\n",
       "  </tbody>\n",
       "</table>\n",
       "</div>"
      ],
      "text/plain": [
       "                         user\n",
       "event_name                   \n",
       "MainScreenAppear         7423\n",
       "OffersScreenAppear       4597\n",
       "CartScreenAppear         3736\n",
       "PaymentScreenSuccessful  3540\n",
       "Tutorial                  843"
      ]
     },
     "execution_count": 18,
     "metadata": {},
     "output_type": "execute_result"
    }
   ],
   "source": [
    "# menghitung jumlah pengguna disetiap peristiwa\n",
    "user_per_event = data.pivot_table(index='event_name', values='user', aggfunc= lambda x: x.nunique()).sort_values('user', ascending=False)\n",
    "user_per_event"
   ]
  },
  {
   "cell_type": "code",
   "execution_count": 19,
   "metadata": {
    "scrolled": true
   },
   "outputs": [
    {
     "data": {
      "text/html": [
       "<div>\n",
       "<style scoped>\n",
       "    .dataframe tbody tr th:only-of-type {\n",
       "        vertical-align: middle;\n",
       "    }\n",
       "\n",
       "    .dataframe tbody tr th {\n",
       "        vertical-align: top;\n",
       "    }\n",
       "\n",
       "    .dataframe thead th {\n",
       "        text-align: right;\n",
       "    }\n",
       "</style>\n",
       "<table border=\"1\" class=\"dataframe\">\n",
       "  <thead>\n",
       "    <tr style=\"text-align: right;\">\n",
       "      <th></th>\n",
       "      <th>user</th>\n",
       "    </tr>\n",
       "    <tr>\n",
       "      <th>event_name</th>\n",
       "      <th></th>\n",
       "    </tr>\n",
       "  </thead>\n",
       "  <tbody>\n",
       "    <tr>\n",
       "      <th>MainScreenAppear</th>\n",
       "      <td>0.984744</td>\n",
       "    </tr>\n",
       "    <tr>\n",
       "      <th>OffersScreenAppear</th>\n",
       "      <td>0.609843</td>\n",
       "    </tr>\n",
       "    <tr>\n",
       "      <th>CartScreenAppear</th>\n",
       "      <td>0.495622</td>\n",
       "    </tr>\n",
       "    <tr>\n",
       "      <th>PaymentScreenSuccessful</th>\n",
       "      <td>0.469621</td>\n",
       "    </tr>\n",
       "    <tr>\n",
       "      <th>Tutorial</th>\n",
       "      <td>0.111833</td>\n",
       "    </tr>\n",
       "  </tbody>\n",
       "</table>\n",
       "</div>"
      ],
      "text/plain": [
       "                             user\n",
       "event_name                       \n",
       "MainScreenAppear         0.984744\n",
       "OffersScreenAppear       0.609843\n",
       "CartScreenAppear         0.495622\n",
       "PaymentScreenSuccessful  0.469621\n",
       "Tutorial                 0.111833"
      ]
     },
     "execution_count": 19,
     "metadata": {},
     "output_type": "execute_result"
    }
   ],
   "source": [
    "user_per_event / len(data['user'].unique())"
   ]
  },
  {
   "cell_type": "markdown",
   "metadata": {},
   "source": [
    "Karena kolom tutorial jumlahnya hanya sedikit dan tidak hubungannya dengan setiap event yang lain maka kolom tutorial di abaikan saja"
   ]
  },
  {
   "cell_type": "code",
   "execution_count": 20,
   "metadata": {},
   "outputs": [
    {
     "data": {
      "text/html": [
       "<div>\n",
       "<style scoped>\n",
       "    .dataframe tbody tr th:only-of-type {\n",
       "        vertical-align: middle;\n",
       "    }\n",
       "\n",
       "    .dataframe tbody tr th {\n",
       "        vertical-align: top;\n",
       "    }\n",
       "\n",
       "    .dataframe thead th {\n",
       "        text-align: right;\n",
       "    }\n",
       "</style>\n",
       "<table border=\"1\" class=\"dataframe\">\n",
       "  <thead>\n",
       "    <tr style=\"text-align: right;\">\n",
       "      <th></th>\n",
       "      <th>user</th>\n",
       "    </tr>\n",
       "    <tr>\n",
       "      <th>event_name</th>\n",
       "      <th></th>\n",
       "    </tr>\n",
       "  </thead>\n",
       "  <tbody>\n",
       "    <tr>\n",
       "      <th>OffersScreenAppear</th>\n",
       "      <td>0.619291</td>\n",
       "    </tr>\n",
       "    <tr>\n",
       "      <th>CartScreenAppear</th>\n",
       "      <td>0.812704</td>\n",
       "    </tr>\n",
       "    <tr>\n",
       "      <th>PaymentScreenSuccessful</th>\n",
       "      <td>0.947537</td>\n",
       "    </tr>\n",
       "  </tbody>\n",
       "</table>\n",
       "</div>"
      ],
      "text/plain": [
       "                             user\n",
       "event_name                       \n",
       "OffersScreenAppear       0.619291\n",
       "CartScreenAppear         0.812704\n",
       "PaymentScreenSuccessful  0.947537"
      ]
     },
     "execution_count": 20,
     "metadata": {},
     "output_type": "execute_result"
    }
   ],
   "source": [
    "# konversi pengguna tiap event\n",
    "users_funnel = user_per_event[:-1]\n",
    "users_funnel = (users_funnel / users_funnel.shift())[1:]\n",
    "users_funnel"
   ]
  },
  {
   "cell_type": "markdown",
   "metadata": {},
   "source": [
    "Pada tahap awal yaitu pada hatap main screen appear ke tahap offers screen appear adalah tahap yang paling banyak persentase kehilangan pengguna, hal ini perlu ditinjau kembali agar persentase kehilangan pengguna ditahap awal tidak terlalu signifikan"
   ]
  },
  {
   "cell_type": "code",
   "execution_count": 21,
   "metadata": {},
   "outputs": [
    {
     "name": "stdout",
     "output_type": "stream",
     "text": [
      "0.47689613363869054 pengguna yang berhasil menyelesaikan tahap awal hingga pembayaran \n"
     ]
    }
   ],
   "source": [
    "print('{} pengguna yang berhasil menyelesaikan tahap awal hingga pembayaran '\n",
    "      .format((user_per_event.loc['PaymentScreenSuccessful']/user_per_event.loc['MainScreenAppear'])['user']))"
   ]
  },
  {
   "cell_type": "markdown",
   "metadata": {},
   "source": [
    "## Analisis hasil eksprimen"
   ]
  },
  {
   "cell_type": "code",
   "execution_count": 22,
   "metadata": {},
   "outputs": [
    {
     "data": {
      "text/html": [
       "<div>\n",
       "<style scoped>\n",
       "    .dataframe tbody tr th:only-of-type {\n",
       "        vertical-align: middle;\n",
       "    }\n",
       "\n",
       "    .dataframe tbody tr th {\n",
       "        vertical-align: top;\n",
       "    }\n",
       "\n",
       "    .dataframe thead th {\n",
       "        text-align: right;\n",
       "    }\n",
       "</style>\n",
       "<table border=\"1\" class=\"dataframe\">\n",
       "  <thead>\n",
       "    <tr style=\"text-align: right;\">\n",
       "      <th></th>\n",
       "      <th>user</th>\n",
       "    </tr>\n",
       "    <tr>\n",
       "      <th>exp_id</th>\n",
       "      <th></th>\n",
       "    </tr>\n",
       "  </thead>\n",
       "  <tbody>\n",
       "    <tr>\n",
       "      <th>246</th>\n",
       "      <td>2484</td>\n",
       "    </tr>\n",
       "    <tr>\n",
       "      <th>247</th>\n",
       "      <td>2517</td>\n",
       "    </tr>\n",
       "    <tr>\n",
       "      <th>248</th>\n",
       "      <td>2537</td>\n",
       "    </tr>\n",
       "  </tbody>\n",
       "</table>\n",
       "</div>"
      ],
      "text/plain": [
       "        user\n",
       "exp_id      \n",
       "246     2484\n",
       "247     2517\n",
       "248     2537"
      ]
     },
     "execution_count": 22,
     "metadata": {},
     "output_type": "execute_result"
    }
   ],
   "source": [
    "users_per_group= data.pivot_table(index='exp_id', values='user', aggfunc=lambda x : x.nunique())\n",
    "users_per_group"
   ]
  },
  {
   "cell_type": "code",
   "execution_count": 23,
   "metadata": {
    "scrolled": true
   },
   "outputs": [
    {
     "data": {
      "text/html": [
       "<div>\n",
       "<style scoped>\n",
       "    .dataframe tbody tr th:only-of-type {\n",
       "        vertical-align: middle;\n",
       "    }\n",
       "\n",
       "    .dataframe tbody tr th {\n",
       "        vertical-align: top;\n",
       "    }\n",
       "\n",
       "    .dataframe thead th {\n",
       "        text-align: right;\n",
       "    }\n",
       "</style>\n",
       "<table border=\"1\" class=\"dataframe\">\n",
       "  <thead>\n",
       "    <tr style=\"text-align: right;\">\n",
       "      <th>exp_id</th>\n",
       "      <th>246</th>\n",
       "      <th>247</th>\n",
       "      <th>248</th>\n",
       "    </tr>\n",
       "    <tr>\n",
       "      <th>event_name</th>\n",
       "      <th></th>\n",
       "      <th></th>\n",
       "      <th></th>\n",
       "    </tr>\n",
       "  </thead>\n",
       "  <tbody>\n",
       "    <tr>\n",
       "      <th>CartScreenAppear</th>\n",
       "      <td>1266</td>\n",
       "      <td>1239</td>\n",
       "      <td>1231</td>\n",
       "    </tr>\n",
       "    <tr>\n",
       "      <th>MainScreenAppear</th>\n",
       "      <td>2450</td>\n",
       "      <td>2479</td>\n",
       "      <td>2494</td>\n",
       "    </tr>\n",
       "    <tr>\n",
       "      <th>OffersScreenAppear</th>\n",
       "      <td>1542</td>\n",
       "      <td>1524</td>\n",
       "      <td>1531</td>\n",
       "    </tr>\n",
       "    <tr>\n",
       "      <th>PaymentScreenSuccessful</th>\n",
       "      <td>1200</td>\n",
       "      <td>1158</td>\n",
       "      <td>1182</td>\n",
       "    </tr>\n",
       "    <tr>\n",
       "      <th>Tutorial</th>\n",
       "      <td>278</td>\n",
       "      <td>284</td>\n",
       "      <td>281</td>\n",
       "    </tr>\n",
       "  </tbody>\n",
       "</table>\n",
       "</div>"
      ],
      "text/plain": [
       "exp_id                    246   247   248\n",
       "event_name                               \n",
       "CartScreenAppear         1266  1239  1231\n",
       "MainScreenAppear         2450  2479  2494\n",
       "OffersScreenAppear       1542  1524  1531\n",
       "PaymentScreenSuccessful  1200  1158  1182\n",
       "Tutorial                  278   284   281"
      ]
     },
     "execution_count": 23,
     "metadata": {},
     "output_type": "execute_result"
    }
   ],
   "source": [
    "users_events_per_group = data.pivot_table(index='event_name', values='user', columns='exp_id',\n",
    "                                         aggfunc=lambda x : x.nunique())\n",
    "users_events_per_group"
   ]
  },
  {
   "cell_type": "code",
   "execution_count": 40,
   "metadata": {},
   "outputs": [
    {
     "data": {
      "text/plain": [
       "<AxesSubplot:xlabel='event_name'>"
      ]
     },
     "execution_count": 40,
     "metadata": {},
     "output_type": "execute_result"
    },
    {
     "data": {
      "image/png": "[encoded data removed]",
      "text/plain": [
       "<Figure size 432x288 with 1 Axes>"
      ]
     },
     "metadata": {
      "needs_background": "light"
     },
     "output_type": "display_data"
    }
   ],
   "source": [
    "users_events_per_group.plot(kind='bar')"
   ]
  },
  {
   "cell_type": "markdown",
   "metadata": {},
   "source": []
  },
  {
   "cell_type": "code",
   "execution_count": 24,
   "metadata": {},
   "outputs": [],
   "source": [
    "def check_hypothesis(successes1, successes2, trials1, trials2, alpha=0.05):\n",
    "    # proporsi keberhasilan pada grup pertama:\n",
    "    p1= successes1/trials1\n",
    "    \n",
    "    # proporsi keberhasilan pada grup ke 2:\n",
    "    p2= successes2/trials2\n",
    "    \n",
    "    # proporsi keberhasilan pada gabunga dataset:\n",
    "    p_combined = (successes1 + successes2) / (trials1 + trials2)\n",
    "    \n",
    "    # perbedaan proporsi dataset:\n",
    "    difference = p1-p2\n",
    "    \n",
    "    # meneghitung statistik standar deviasi dan distribusi normal:\n",
    "    z_value = difference / math.sqrt(p_combined * (1- p_combined) * (1/trials1 + 1/trials2))\n",
    "    \n",
    "    # setting standar distribusi normal (mean=0, standar deviasi=1):\n",
    "    distr = stats.norm(0, 1)\n",
    "  \n",
    "    p_value = (1-distr.cdf(abs(z_value))) * 2\n",
    "    \n",
    "    print('p-value: ', p_value)\n",
    "    \n",
    "    if (p_value < alpha):\n",
    "        print(\"tolak null hypothesis : ada perbedaan proporsi yang signifikan antara kelompok\")\n",
    "    else:\n",
    "        print(\"gagal tolak null hypothesis: tidak ada perbedaan proporsi yang signifikan antara kelompok\")"
   ]
  },
  {
   "cell_type": "code",
   "execution_count": 42,
   "metadata": {},
   "outputs": [
    {
     "name": "stdout",
     "output_type": "stream",
     "text": [
      "p-value:  [0.67562177]\n",
      "gagal tolak null hypothesis: tidak ada perbedaan proporsi yang signifikan antara kelompok\n"
     ]
    }
   ],
   "source": [
    "check_hypothesis(users_events_per_group.loc['MainScreenAppear', 246],\n",
    "                 users_events_per_group.loc['MainScreenAppear', 247],\n",
    "                 users_per_group.loc[246],\n",
    "                 users_per_group.loc[247])"
   ]
  },
  {
   "cell_type": "markdown",
   "metadata": {},
   "source": [
    "Hasil hipotesis menunjukan bahwa tidak ada perbedaan antar kelompok signifikan secara statistik"
   ]
  },
  {
   "cell_type": "code",
   "execution_count": 26,
   "metadata": {},
   "outputs": [],
   "source": [
    "def check_event_hypothesis(users_events_per_group, users_per_group, \n",
    "                           event, \n",
    "                           exp1, exp2\n",
    "                          ):\n",
    "    frac1 = users_events_per_group.loc[event, exp1] / users_per_group.loc[exp1]\n",
    "    frac2 = users_events_per_group.loc[event, exp2] / users_per_group.loc[exp2]\n",
    "    print(f'{frac1} with {event} event in group {exp1}')\n",
    "    print(f'{frac2} with {event} event in group {exp2}')\n",
    "    check_hypothesis(users_events_per_group.loc[event, exp1],\n",
    "                     users_events_per_group.loc[event, exp2],\n",
    "                    users_per_group.loc[exp1],\n",
    "                    users_per_group.loc[exp2])"
   ]
  },
  {
   "cell_type": "code",
   "execution_count": 27,
   "metadata": {},
   "outputs": [
    {
     "name": "stdout",
     "output_type": "stream",
     "text": [
      "user    0.509662\n",
      "Name: 246, dtype: float64 with CartScreenAppear event in group 246\n",
      "user    0.492253\n",
      "Name: 247, dtype: float64 with CartScreenAppear event in group 247\n",
      "p-value:  [0.21828121]\n",
      "gagal tolak null hypothesis: tidak ada perbedaan proporsi yang signifikan antara kelompok\n",
      "\n",
      "user    0.986312\n",
      "Name: 246, dtype: float64 with MainScreenAppear event in group 246\n",
      "user    0.984903\n",
      "Name: 247, dtype: float64 with MainScreenAppear event in group 247\n",
      "p-value:  [0.67562177]\n",
      "gagal tolak null hypothesis: tidak ada perbedaan proporsi yang signifikan antara kelompok\n",
      "\n",
      "user    0.620773\n",
      "Name: 246, dtype: float64 with OffersScreenAppear event in group 246\n",
      "user    0.605483\n",
      "Name: 247, dtype: float64 with OffersScreenAppear event in group 247\n",
      "p-value:  [0.26698769]\n",
      "gagal tolak null hypothesis: tidak ada perbedaan proporsi yang signifikan antara kelompok\n",
      "\n",
      "user    0.483092\n",
      "Name: 246, dtype: float64 with PaymentScreenSuccessful event in group 246\n",
      "user    0.460072\n",
      "Name: 247, dtype: float64 with PaymentScreenSuccessful event in group 247\n",
      "p-value:  [0.10298395]\n",
      "gagal tolak null hypothesis: tidak ada perbedaan proporsi yang signifikan antara kelompok\n",
      "\n",
      "user    0.111916\n",
      "Name: 246, dtype: float64 with Tutorial event in group 246\n",
      "user    0.112833\n",
      "Name: 247, dtype: float64 with Tutorial event in group 247\n",
      "p-value:  [0.91827903]\n",
      "gagal tolak null hypothesis: tidak ada perbedaan proporsi yang signifikan antara kelompok\n",
      "\n"
     ]
    }
   ],
   "source": [
    "for event in users_events_per_group.index:\n",
    "    check_event_hypothesis(users_events_per_group, users_per_group,\n",
    "                           event, 246, 247)\n",
    "    print()"
   ]
  },
  {
   "cell_type": "markdown",
   "metadata": {},
   "source": [
    "pada semua peristiwa p-valuenya yaitu diatas 0.05 yang artinya tidak ada perbedaan proporsi yang signifikan di tiap kelompok kontrol antara 246 dan 247"
   ]
  },
  {
   "cell_type": "code",
   "execution_count": 28,
   "metadata": {},
   "outputs": [
    {
     "name": "stdout",
     "output_type": "stream",
     "text": [
      "user    0.509662\n",
      "Name: 246, dtype: float64 with CartScreenAppear event in group 246\n",
      "user    0.485219\n",
      "Name: 248, dtype: float64 with CartScreenAppear event in group 248\n",
      "p-value:  [0.08328413]\n",
      "gagal tolak null hypothesis: tidak ada perbedaan proporsi yang signifikan antara kelompok\n",
      "\n",
      "user    0.986312\n",
      "Name: 246, dtype: float64 with MainScreenAppear event in group 246\n",
      "user    0.983051\n",
      "Name: 248, dtype: float64 with MainScreenAppear event in group 248\n",
      "p-value:  [0.34705881]\n",
      "gagal tolak null hypothesis: tidak ada perbedaan proporsi yang signifikan antara kelompok\n",
      "\n",
      "user    0.620773\n",
      "Name: 246, dtype: float64 with OffersScreenAppear event in group 246\n",
      "user    0.603469\n",
      "Name: 248, dtype: float64 with OffersScreenAppear event in group 248\n",
      "p-value:  [0.20836205]\n",
      "gagal tolak null hypothesis: tidak ada perbedaan proporsi yang signifikan antara kelompok\n",
      "\n",
      "user    0.483092\n",
      "Name: 246, dtype: float64 with PaymentScreenSuccessful event in group 246\n",
      "user    0.465905\n",
      "Name: 248, dtype: float64 with PaymentScreenSuccessful event in group 248\n",
      "p-value:  [0.22269359]\n",
      "gagal tolak null hypothesis: tidak ada perbedaan proporsi yang signifikan antara kelompok\n",
      "\n",
      "user    0.111916\n",
      "Name: 246, dtype: float64 with Tutorial event in group 246\n",
      "user    0.110761\n",
      "Name: 248, dtype: float64 with Tutorial event in group 248\n",
      "p-value:  [0.89644896]\n",
      "gagal tolak null hypothesis: tidak ada perbedaan proporsi yang signifikan antara kelompok\n",
      "\n"
     ]
    }
   ],
   "source": [
    "for event in users_events_per_group.index:\n",
    "    check_event_hypothesis(users_events_per_group, users_per_group,\n",
    "                           event, 246, 248)\n",
    "    print()"
   ]
  },
  {
   "cell_type": "markdown",
   "metadata": {},
   "source": [
    "rata-rata dikelompok uji tidak ada perbedaan yang signifikan dengan kelompok kontorl 246 terhadap kelompok uji 258"
   ]
  },
  {
   "cell_type": "code",
   "execution_count": 29,
   "metadata": {},
   "outputs": [
    {
     "name": "stdout",
     "output_type": "stream",
     "text": [
      "user    0.492253\n",
      "Name: 247, dtype: float64 with CartScreenAppear event in group 247\n",
      "user    0.485219\n",
      "Name: 248, dtype: float64 with CartScreenAppear event in group 248\n",
      "p-value:  [0.61695175]\n",
      "gagal tolak null hypothesis: tidak ada perbedaan proporsi yang signifikan antara kelompok\n",
      "\n",
      "user    0.984903\n",
      "Name: 247, dtype: float64 with MainScreenAppear event in group 247\n",
      "user    0.983051\n",
      "Name: 248, dtype: float64 with MainScreenAppear event in group 248\n",
      "p-value:  [0.60016616]\n",
      "gagal tolak null hypothesis: tidak ada perbedaan proporsi yang signifikan antara kelompok\n",
      "\n",
      "user    0.605483\n",
      "Name: 247, dtype: float64 with OffersScreenAppear event in group 247\n",
      "user    0.603469\n",
      "Name: 248, dtype: float64 with OffersScreenAppear event in group 248\n",
      "p-value:  [0.88359567]\n",
      "gagal tolak null hypothesis: tidak ada perbedaan proporsi yang signifikan antara kelompok\n",
      "\n",
      "user    0.460072\n",
      "Name: 247, dtype: float64 with PaymentScreenSuccessful event in group 247\n",
      "user    0.465905\n",
      "Name: 248, dtype: float64 with PaymentScreenSuccessful event in group 248\n",
      "p-value:  [0.67754136]\n",
      "gagal tolak null hypothesis: tidak ada perbedaan proporsi yang signifikan antara kelompok\n",
      "\n",
      "user    0.112833\n",
      "Name: 247, dtype: float64 with Tutorial event in group 247\n",
      "user    0.110761\n",
      "Name: 248, dtype: float64 with Tutorial event in group 248\n",
      "p-value:  [0.8151967]\n",
      "gagal tolak null hypothesis: tidak ada perbedaan proporsi yang signifikan antara kelompok\n",
      "\n"
     ]
    }
   ],
   "source": [
    "for event in users_events_per_group.index:\n",
    "    check_event_hypothesis(users_events_per_group, users_per_group,\n",
    "                           event, 247, 248)\n",
    "    print()"
   ]
  },
  {
   "cell_type": "markdown",
   "metadata": {},
   "source": [
    "Hal yang sama terjadi juga pada kelompok kontrol 247, tidak ada yang perbedaan yang signifikan terhadap kelompok uji 248"
   ]
  },
  {
   "cell_type": "code",
   "execution_count": 30,
   "metadata": {},
   "outputs": [
    {
     "data": {
      "text/html": [
       "<div>\n",
       "<style scoped>\n",
       "    .dataframe tbody tr th:only-of-type {\n",
       "        vertical-align: middle;\n",
       "    }\n",
       "\n",
       "    .dataframe tbody tr th {\n",
       "        vertical-align: top;\n",
       "    }\n",
       "\n",
       "    .dataframe thead th {\n",
       "        text-align: right;\n",
       "    }\n",
       "</style>\n",
       "<table border=\"1\" class=\"dataframe\">\n",
       "  <thead>\n",
       "    <tr style=\"text-align: right;\">\n",
       "      <th>exp_id</th>\n",
       "      <th>247</th>\n",
       "      <th>248</th>\n",
       "    </tr>\n",
       "    <tr>\n",
       "      <th>event_name</th>\n",
       "      <th></th>\n",
       "      <th></th>\n",
       "    </tr>\n",
       "  </thead>\n",
       "  <tbody>\n",
       "    <tr>\n",
       "      <th>CartScreenAppear</th>\n",
       "      <td>2505</td>\n",
       "      <td>1231</td>\n",
       "    </tr>\n",
       "    <tr>\n",
       "      <th>MainScreenAppear</th>\n",
       "      <td>4929</td>\n",
       "      <td>2494</td>\n",
       "    </tr>\n",
       "    <tr>\n",
       "      <th>OffersScreenAppear</th>\n",
       "      <td>3066</td>\n",
       "      <td>1531</td>\n",
       "    </tr>\n",
       "    <tr>\n",
       "      <th>PaymentScreenSuccessful</th>\n",
       "      <td>2358</td>\n",
       "      <td>1182</td>\n",
       "    </tr>\n",
       "    <tr>\n",
       "      <th>Tutorial</th>\n",
       "      <td>562</td>\n",
       "      <td>281</td>\n",
       "    </tr>\n",
       "  </tbody>\n",
       "</table>\n",
       "</div>"
      ],
      "text/plain": [
       "exp_id                    247   248\n",
       "event_name                         \n",
       "CartScreenAppear         2505  1231\n",
       "MainScreenAppear         4929  2494\n",
       "OffersScreenAppear       3066  1531\n",
       "PaymentScreenSuccessful  2358  1182\n",
       "Tutorial                  562   281"
      ]
     },
     "execution_count": 30,
     "metadata": {},
     "output_type": "execute_result"
    }
   ],
   "source": [
    "# menggabungkan kelompok kontrol 246 dan 247, dibandingkan dengan 248\n",
    "users_events_per_group_control = users_events_per_group.copy()\n",
    "users_events_per_group_control.loc[:, 247] += users_events_per_group_control.loc[:, 246]\n",
    "users_events_per_group_control.drop(columns=246, inplace=True)\n",
    "users_events_per_group_control"
   ]
  },
  {
   "cell_type": "code",
   "execution_count": 31,
   "metadata": {},
   "outputs": [
    {
     "data": {
      "text/html": [
       "<div>\n",
       "<style scoped>\n",
       "    .dataframe tbody tr th:only-of-type {\n",
       "        vertical-align: middle;\n",
       "    }\n",
       "\n",
       "    .dataframe tbody tr th {\n",
       "        vertical-align: top;\n",
       "    }\n",
       "\n",
       "    .dataframe thead th {\n",
       "        text-align: right;\n",
       "    }\n",
       "</style>\n",
       "<table border=\"1\" class=\"dataframe\">\n",
       "  <thead>\n",
       "    <tr style=\"text-align: right;\">\n",
       "      <th></th>\n",
       "      <th>user</th>\n",
       "    </tr>\n",
       "    <tr>\n",
       "      <th>exp_id</th>\n",
       "      <th></th>\n",
       "    </tr>\n",
       "  </thead>\n",
       "  <tbody>\n",
       "    <tr>\n",
       "      <th>247</th>\n",
       "      <td>5001</td>\n",
       "    </tr>\n",
       "    <tr>\n",
       "      <th>248</th>\n",
       "      <td>2537</td>\n",
       "    </tr>\n",
       "  </tbody>\n",
       "</table>\n",
       "</div>"
      ],
      "text/plain": [
       "        user\n",
       "exp_id      \n",
       "247     5001\n",
       "248     2537"
      ]
     },
     "execution_count": 31,
     "metadata": {},
     "output_type": "execute_result"
    }
   ],
   "source": [
    "# menggabungkan kelompok kontrol 246 dan 247, dibandingkan dengan 248\n",
    "users_per_group_control = users_per_group.copy()\n",
    "users_per_group_control.loc[247] += users_per_group_control.loc[246]\n",
    "users_per_group_control.drop(246, inplace=True)\n",
    "users_per_group_control"
   ]
  },
  {
   "cell_type": "code",
   "execution_count": 32,
   "metadata": {},
   "outputs": [
    {
     "name": "stdout",
     "output_type": "stream",
     "text": [
      "user    0.5009\n",
      "Name: 247, dtype: float64 with CartScreenAppear event in group 247\n",
      "user    0.485219\n",
      "Name: 248, dtype: float64 with CartScreenAppear event in group 248\n",
      "p-value:  [0.19819341]\n",
      "gagal tolak null hypothesis: tidak ada perbedaan proporsi yang signifikan antara kelompok\n",
      "\n",
      "user    0.985603\n",
      "Name: 247, dtype: float64 with MainScreenAppear event in group 247\n",
      "user    0.983051\n",
      "Name: 248, dtype: float64 with MainScreenAppear event in group 248\n",
      "p-value:  [0.39298915]\n",
      "gagal tolak null hypothesis: tidak ada perbedaan proporsi yang signifikan antara kelompok\n",
      "\n",
      "user    0.613077\n",
      "Name: 247, dtype: float64 with OffersScreenAppear event in group 247\n",
      "user    0.603469\n",
      "Name: 248, dtype: float64 with OffersScreenAppear event in group 248\n",
      "p-value:  [0.41899828]\n",
      "gagal tolak null hypothesis: tidak ada perbedaan proporsi yang signifikan antara kelompok\n",
      "\n",
      "user    0.471506\n",
      "Name: 247, dtype: float64 with PaymentScreenSuccessful event in group 247\n",
      "user    0.465905\n",
      "Name: 248, dtype: float64 with PaymentScreenSuccessful event in group 248\n",
      "p-value:  [0.64520577]\n",
      "gagal tolak null hypothesis: tidak ada perbedaan proporsi yang signifikan antara kelompok\n",
      "\n",
      "user    0.112378\n",
      "Name: 247, dtype: float64 with Tutorial event in group 247\n",
      "user    0.110761\n",
      "Name: 248, dtype: float64 with Tutorial event in group 248\n",
      "p-value:  [0.83330491]\n",
      "gagal tolak null hypothesis: tidak ada perbedaan proporsi yang signifikan antara kelompok\n",
      "\n"
     ]
    }
   ],
   "source": [
    "# A/B testing antara gabungan kelompok kontrol dengan kelompok uji\n",
    "for event in users_events_per_group.index:\n",
    "    check_event_hypothesis(users_events_per_group_control, users_per_group_control,\n",
    "                           event, 247, 248)\n",
    "    print()"
   ]
  },
  {
   "cell_type": "markdown",
   "metadata": {},
   "source": [
    "Dari segi berapa jumlah user yang masuk ketiap event atau tiap screen hasilnya yaitu tidak ada perubahan yang signifikan antara kelompok uji dengan kelompok kontrol. "
   ]
  },
  {
   "cell_type": "markdown",
   "metadata": {},
   "source": [
    "## Kesimpulan"
   ]
  },
  {
   "cell_type": "markdown",
   "metadata": {},
   "source": [
    "Berdasarkan hasil pengolahan data pada perusahaan startup produk makanan dapat diambil kesimpulannya yaitu, pada tahap awal yaitu  ditahap main screen appear ke tahap offers screen appear adalah tahap yang paling banyak persentase kehilangan pengguna, hal ini perlu ditinjau kembali agar dapat menarik pengguna lebih banyak hingga ketahap payment agar persentase kehilangan pengguna ditahap awal tidak terlalu berkurang secara signifikan.\n",
    "\n",
    "Dan jumlah banyaknya pengguna dari semua exp_id tahap awal MainScreenAppear hingga PaymentScreenSuccessful tidak menunjukan perbedaan yang signifikan, hanya saja pada ke 3 exp_id dari tahap MainScreenAppear ke tahap OffersScreenAppear banyak berkurang, tetapi perbedaannya pada ke 3 exp_id rata-rata jumlahnya tidak terlalu signifikan. artinya perubahan font pada keseluruhan aplikasi tidak begitu mempengaruhi atau mengganggu pengguna pada saat menggunkana aplikasi tersebut.\n"
   ]
  }
 ],
 "metadata": {
  "kernelspec": {
   "display_name": "Python 3 (ipykernel)",
   "language": "python",
   "name": "python3"
  },
  "language_info": {
   "codemirror_mode": {
    "name": "ipython",
    "version": 3
   },
   "file_extension": ".py",
   "mimetype": "text/x-python",
   "name": "python",
   "nbconvert_exporter": "python",
   "pygments_lexer": "ipython3",
   "version": "3.10.9"
  },
  "toc": {
   "base_numbering": 1,
   "nav_menu": {},
   "number_sections": true,
   "sideBar": true,
   "skip_h1_title": true,
   "title_cell": "Table of Contents",
   "title_sidebar": "Contents",
   "toc_cell": false,
   "toc_position": {
    "height": "calc(100% - 180px)",
    "left": "10px",
    "top": "150px",
    "width": "165px"
   },
   "toc_section_display": true,
   "toc_window_display": true
  }
 },
 "nbformat": 4,
 "nbformat_minor": 2
}
